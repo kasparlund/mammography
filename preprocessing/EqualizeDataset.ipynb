{
 "cells": [
  {
   "cell_type": "code",
   "execution_count": 1,
   "metadata": {},
   "outputs": [],
   "source": [
    "# Put these at the top of every notebook, to get automatic reloading and inline plotting\n",
    "%reload_ext autoreload\n",
    "%autoreload 2\n",
    "%matplotlib inline"
   ]
  },
  {
   "cell_type": "code",
   "execution_count": 2,
   "metadata": {},
   "outputs": [],
   "source": [
    "from IPython.display import display, HTML\n",
    "\n",
    "import numpy as np \n",
    "import pandas as pd\n",
    "import cv2\n",
    "import math\n",
    "\n",
    "import os\n",
    "from pathlib import Path\n",
    "\n",
    "import time\n",
    "from datetime import datetime\n",
    "\n",
    "from histogram import *\n",
    "from imagereader import *\n",
    "from histogramStatistics import *\n",
    "from smoothHistogram import *\n",
    "matchHist=None"
   ]
  },
  {
   "cell_type": "code",
   "execution_count": 3,
   "metadata": {},
   "outputs": [],
   "source": [
    "def writePng(im,file):\n",
    "    file.parent.mkdir(parents=True, exist_ok=True)\n",
    "    cv2.imwrite(str(file), (255.0*cv2.cvtColor(im,cv2.COLOR_RGB2BGR) + 0.5).astype(np.uint8))\n",
    "def channelStat(im):\n",
    "         return np.mean(im[:,:,0]), np.mean(im[:,:,1]), np.mean(im[:,:,2]), np.std(im[:,:,0]), np.std(im[:,:,1]), np.std(im[:,:,2])\n",
    "def genEqualization(pathTrg, files, nbCommon, eqc, matchHistogram=None):\n",
    "    filenames, testOrTrain, hSrcAll,hTrgAll, chStatSrc, chStatTrg = [],[],[],[],[],[]\n",
    "    middelBins = None\n",
    "    for f in files:\n",
    "        testOrTrain.append( f.parts[nbCommon] )\n",
    "\n",
    "        fTrg = pathTrg.joinpath(*f.parts[nbCommon:])\n",
    "    \n",
    "        imSrc= ImageColors(reader.open(f), eqc)    \n",
    "        hSrc  = Histogram.fromBinIntervals(histType,imSrc.V.flatten(),vmin,vmax,nBins)\n",
    "        \n",
    "        imTrg = ImageColors(imSrc.im.copy(), eqc)    \n",
    "        imTrg.V = hSrc.equalize(imTrg.V) if matchHistogram is None else hSrc.equalize_t(imTrg.V,matchHistogram)\n",
    "            \n",
    "        writePng(imTrg.im,fTrg)\n",
    "        \n",
    "        if middelBins is None: middelBins = hSrc.middelBins\n",
    "        \n",
    "        filenames.append(Path(f.stem).name)\n",
    "        hSrcAll.append(hSrc.hist)        \n",
    "        chStatSrc.append(channelStat(imSrc.im))\n",
    "        \n",
    "        hTrg  = Histogram.fromBinIntervals(histType,imTrg.V.flatten(),vmin,vmax,nBins)\n",
    "        hTrgAll.append(hTrg.hist)\n",
    "        chStatTrg.append(channelStat(imTrg.im))\n",
    "        \n",
    "    cols        =  list( map(str,np.round(middelBins,6)) )\n",
    "    dfSrcAll    = pd.DataFrame(index=filenames, data = np.asarray(hSrcAll), columns=cols ) \n",
    "    dfSrcAll.insert(0,\"testOrTrain\",\"\", allow_duplicates=True)\n",
    "    dfSrcAll.testOrTrain = np.asarray(testOrTrain)\n",
    "\n",
    "    dfTrgAll    = pd.DataFrame(index=filenames, data = np.asarray(hTrgAll), columns=cols ) \n",
    "    dfTrgAll.insert(0,\"testOrTrain\",testOrTrain)\n",
    "    dfTrgAll.testOrTrain = np.asarray(testOrTrain)\n",
    "    \n",
    "    dfchStatSrc = pd.DataFrame(index=filenames, data = np.asarray(chStatSrc), columns=[\"rMean\",\"gMean\",\"bMean\",\"rSD\",\"gSD\",\"bSD\"] ) \n",
    "    dfchStatTrg = pd.DataFrame(index=filenames, data = np.asarray(chStatTrg), columns=dfchStatSrc.columns ) \n",
    "    return filenames, dfSrcAll,dfTrgAll,dfchStatSrc,dfchStatTrg\n",
    "\n",
    "def saveHistograms(path, filenames, bins, dfh):\n",
    "    #cols   = np.round(bins,6)\n",
    "    #dfh    = pd.DataFrame(index=filenames, data = np.asarray(hl), columns=cols ) \n",
    "    dfh.to_csv(path / \"histograms.csv\" )\n",
    "    \n",
    "    mHist  = dfh.mean(axis=0).values\n",
    "    sdHist = dfh.std(axis=0).values\n",
    "    dfhm   = pd.DataFrame( data = np.stack([bins, mHist, sdHist],axis=-1), columns=[\"bins\", \"mean_\",\"std_\"] ) \n",
    "    dfhm.to_csv(path / \"histograms-mean-std.csv\" )\n",
    "    return dfhm\n",
    "\n",
    "def saveChannelStats( path, dfChStat ):\n",
    "    dfChStat.to_csv(path / \"channelstats.csv\" )\n",
    "    dfm   = pd.DataFrame( columns=dfChStat.columns ) \n",
    "    dfm.loc[0] = dfChStat.mean(axis=0).values\n",
    "    dfm.to_csv(path / \"channelstats means.csv\", index=False )\n",
    "    return dfm\n",
    "\n",
    "def genSaveStats( path, bins ):\n",
    "    dh = pd.read_csv(path/\"histograms.csv\", index_col=0)\n",
    "    dh.drop(\"testOrTrain\",axis=1,inplace=True)\n",
    "    ds = calcStatistics(bins, dh)\n",
    "    ds.to_csv(path/\"histogram_statistics.csv\" )    \n",
    "    return ds"
   ]
  },
  {
   "cell_type": "code",
   "execution_count": 4,
   "metadata": {},
   "outputs": [
    {
     "name": "stdout",
     "output_type": "stream",
     "text": [
      "[PosixPath('../../mammography-data/.DS_Store'), PosixPath('../../mammography-data/converted_images')]\n"
     ]
    },
    {
     "data": {
      "image/png": "[encoded data removed]",
      "text/plain": [
       "<Figure size 864x360 with 1 Axes>"
      ]
     },
     "metadata": {
      "needs_background": "light"
     },
     "output_type": "display_data"
    }
   ],
   "source": [
    "#configuration for equalisation of mammograhies\n",
    "eqc      = EQC.CHX\n",
    "histType = HISTOGRAMTYPE.BINS\n",
    "vmin     = 0.01\n",
    "vmax     = 1. - vmin\n",
    "nBins    = 256\n",
    "commonPath = Path(\"../../mammography-data/\")\n",
    "print(list(commonPath.iterdir()))\n",
    "pathSrc    = commonPath / \"converted_images\"\n",
    "files      = list( pathSrc.glob(\"**/xray_images/*.png\") )\n",
    "pathTrg    = commonPath / f\"mammography-dogscats-match-equalization-{histType.name}-{eqc.name}\"\n",
    "\n",
    "dfhists = pd.read_csv(\"../../fastai-data/data/dogscats/smooth_histogram.csv\", index_col=0 )\n",
    "plotSmoothHistogram( dfhists )\n",
    "\n",
    "matchHist = Histogram(dfhists.hist_smoothed,vmin=0.,vmax=1.)\n"
   ]
  },
  {
   "cell_type": "raw",
   "metadata": {},
   "source": [
    "#configuration for equalisation of cifar10\n",
    "eqc      = EQC.CHX\n",
    "histType = HISTOGRAMTYPE.BINS\n",
    "vmin     = 1e-3\n",
    "vmax     = 1.-vmin\n",
    "nBins    = 64\n",
    "#commonPath = Path(\"../../fastai-data/data/\")\n",
    "#pathSrc    = commonPath / \"dogscats\"\n",
    "#pathTrg    = commonPath / f\"cifar10-{histType.name}-{eqc.name}-channelmixing\"\n",
    "#pathSrc    = commonPath / \"cifar10\"\n",
    "#pathTrg    = commonPath / f\"cifar10-{histType.name}-{eqc.name}-channelmixing\"\n"
   ]
  },
  {
   "cell_type": "raw",
   "metadata": {},
   "source": [
    "#configuration for equalisation of dogscats\n",
    "eqc      = EQC.CHX\n",
    "histType = HISTOGRAMTYPE.BINS\n",
    "vmin     = 1e-3\n",
    "vmax     = 1.-vmin\n",
    "nBins    = 256\n",
    "commonPath = Path(\"../../fastai-data/data/\")\n",
    "pathSrc    = commonPath / \"dogscats\"\n",
    "print(list(pathSrc.iterdir()))\n",
    "pathTrg    = commonPath / f\"dogscats - global-equalization-{histType.name}-{eqc.name}\"\n",
    "files      = list( pathSrc.glob(\"**/*.jpg\") )\n",
    "files[:2]"
   ]
  },
  {
   "cell_type": "code",
   "execution_count": null,
   "metadata": {},
   "outputs": [
    {
     "name": "stdout",
     "output_type": "stream",
     "text": [
      "Source dataset: ../../mammography-data/converted_images  with 3101 files\n",
      "target dataset: ../../mammography-data/mammography-dogscats-match-equalization-BINS-CHX\n"
     ]
    }
   ],
   "source": [
    "def printHist(histType, h):\n",
    "    print(f\"Hist {histType} len:{len(h.middelBins)}: \\nbins\", h.middelBins, \"\\nhist:\", h.hist, \"\\ncdf:\", h.cdf)   \n",
    "\n",
    "print(f\"Source dataset: {pathSrc}  with {len(files)} files\\ntarget dataset: {pathTrg}\")\n",
    "nbCommon = len(commonPath.parts)+1\n",
    "reader   = ImageReader()\n",
    "\n",
    "%time filenames, dfSrcAll, dfTrgAll,dfChStatSrc,dfChStatTrg = genEqualization(pathTrg, files, nbCommon, eqc,matchHist)\n",
    "bins = np.linspace(vmin,vmax,nBins)\n",
    "\n",
    "dfSrcAll.testOrTrain.head()\n",
    "dfSrcAll.groupby(\"testOrTrain\").count()"
   ]
  },
  {
   "cell_type": "code",
   "execution_count": null,
   "metadata": {},
   "outputs": [],
   "source": [
    "dfSrcMSD         = saveHistograms(pathSrc, filenames, bins, dfSrcAll)\n",
    "dfChStatMeansSrc = saveChannelStats(pathSrc, dfChStatSrc)\n",
    "dStatSrc         = genSaveStats(pathSrc, bins)\n",
    "\n",
    "dfTrgMSD         = saveHistograms(pathTrg, filenames, bins, dfTrgAll)\n",
    "dfChStatMeansTrg = saveChannelStats(pathTrg, dfChStatTrg)\n",
    "dStatTrg         = genSaveStats(pathTrg, bins)\n",
    "\n",
    "print(\"dfChStatMeansSrc\")\n",
    "display(dfChStatMeansSrc)\n",
    "print(\"\\ndfChStatMeansTrg\")\n",
    "display(dfChStatMeansTrg)"
   ]
  },
  {
   "cell_type": "code",
   "execution_count": null,
   "metadata": {},
   "outputs": [],
   "source": [
    "import matplotlib.pyplot as plt \n",
    "def plotmeanstd(title, bins, mean, std):\n",
    "    fig,axes = plt.subplots(nrows=1, ncols=1, figsize = (10,6), dpi=100 )\n",
    "    axes.set_title(title)\n",
    "    axes.plot(bins, mean, label=\"mean\" )\n",
    "    axes.plot(bins, std,  label=\"std\"  )\n",
    "\n",
    "    #plt.legend(bbox_to_anchor=(0., 1.02, 1., .102), loc='lower left', ncol=2, mode=\"expand\", borderaxespad=0.)\n",
    "    plt.legend(loc='upper center')\n",
    "\n",
    "plotmeanstd(f\"histograms for {pathSrc.stem}\", dfSrcMSD.bins.values, dfSrcMSD.mean_.values, dfSrcMSD.std_.values)"
   ]
  },
  {
   "cell_type": "code",
   "execution_count": null,
   "metadata": {},
   "outputs": [],
   "source": [
    "plotmeanstd(f\"histograms for {pathTrg.stem}\", dfTrgMSD.bins.values, dfTrgMSD.mean_.values, dfTrgMSD.std_.values)"
   ]
  },
  {
   "cell_type": "code",
   "execution_count": null,
   "metadata": {},
   "outputs": [],
   "source": [
    "#Calculate a smooth histogram of the source images, The histogram were saved to dfSrcAll\n",
    "mHist  = dfSrcAll.mean(axis=0).values\n",
    "sdHist = dfSrcAll.std(axis=0).values\n",
    "bins   = np.asarray(list(map(float, dfSrcAll.columns[1:])))\n",
    "\n",
    "ixCutStart=5\n",
    "ixCutEnd=15\n",
    "dfSmooth = smoothHistogram( bins, mHist, sdHist, ixCutStart=ixCutStart, ixCutEnd=ixCutEnd )\n",
    "dfSmooth.insert(1, \"histMean\", mHist)\n",
    "dfSmooth.insert(2, \"histSD\",   sdHist)\n",
    "dfSmooth.to_csv(pathSrc/\"smooth_histogram.csv\" )    \n",
    "\n",
    "display(dfSmooth.head())\n",
    "display(dfSmooth.tail())\n",
    "plotSmoothHistogram( dfSmooth )\n"
   ]
  },
  {
   "cell_type": "code",
   "execution_count": null,
   "metadata": {},
   "outputs": [],
   "source": []
  }
 ],
 "metadata": {
  "kernelspec": {
   "display_name": "Python 3",
   "language": "python",
   "name": "python3"
  },
  "language_info": {
   "codemirror_mode": {
    "name": "ipython",
    "version": 3
   },
   "file_extension": ".py",
   "mimetype": "text/x-python",
   "name": "python",
   "nbconvert_exporter": "python",
   "pygments_lexer": "ipython3",
   "version": "3.7.0"
  }
 },
 "nbformat": 4,
 "nbformat_minor": 2
}
