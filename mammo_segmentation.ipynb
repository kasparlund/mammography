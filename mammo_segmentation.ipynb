{
 "cells": [
  {
   "cell_type": "markdown",
   "metadata": {},
   "source": [
    "# Segmentation of mammo tiles"
   ]
  },
  {
   "cell_type": "code",
   "execution_count": 1,
   "metadata": {},
   "outputs": [],
   "source": [
    "# Put these at the top of every notebook, to get automatic reloading and inline plotting\n",
    "%reload_ext autoreload\n",
    "%autoreload 2\n",
    "%matplotlib inline"
   ]
  },
  {
   "cell_type": "code",
   "execution_count": 2,
   "metadata": {
    "scrolled": true
   },
   "outputs": [],
   "source": [
    "#from fastai.core import *\n",
    "from fastai import *\n",
    "from fastai.vision import *\n",
    "import PIL\n",
    "\n",
    "from pathlib import *\n",
    "import pandas as pd\n",
    "import numpy as np\n",
    "import colorcet as cc\n",
    "\n",
    "#from gray_image import *\n",
    "\n",
    "cmap_grey = cc.cm.linear_grey_0_100_c0"
   ]
  },
  {
   "cell_type": "code",
   "execution_count": 3,
   "metadata": {},
   "outputs": [],
   "source": [
    "path  = Path('../../data/mammography-data/mammography-dogscats-match-equalization-BINS-CHX/tiles')\n",
    "#print(list(path.iterdir()))\n",
    "dxrays = \"xrays\"\n",
    "dmasks = \"obs_masks\"\n",
    "dtrain = \"train\"\n",
    "dvalid = \"test\""
   ]
  },
  {
   "cell_type": "code",
   "execution_count": 4,
   "metadata": {},
   "outputs": [],
   "source": [
    "from enum import Enum\n",
    "class ObsType(Enum):\n",
    "    EMPTY=0           ,\"empty\"                   # outside the breast\n",
    "    NORMAL=1          ,\"normal\"                  # tissue with no segments\n",
    "    BENIGN_CALC=2     ,\"benign_calcification\"    # tissue with benign calcification\n",
    "    MALIGNANT_CALC=3  ,\"malignant calcification\"  # tissue with malignant calcification\n",
    "    BENIGN_MASS=4     ,\"benign_mass\"              # tissue with a benign node\n",
    "    MALIGNANT_MASS=5  ,\"malignant mass\"           # tissue with a malignant node\n",
    "def enum2int(e): return e.value[0]\n",
    "\n",
    "def selectCases( cases, purpose, complexity, nb=1000 ): \n",
    "    dfAll = None\n",
    "    for k,q in complexity.items():\n",
    "        df  = cases[cases.purpose==purpose].query(q)\n",
    "        df[\"classes\"] = k\n",
    "        idx   = np.unique(np.random.uniform( low=0, high=df.shape[0], size=10*nb).astype(int))\n",
    "        idx   = idx[0:min(df.shape[0], nb, len(idx) )]\n",
    "        dfAll = dfAll.append(df.iloc[idx]) if dfAll is not None else df.iloc[idx]\n",
    "    return dfAll\n",
    "\n",
    "import matplotlib as mpl\n",
    "import matplotlib.gridspec as gridspec\n",
    "from matplotlib.colors import LinearSegmentedColormap\n",
    "     \n",
    "def getColorBoundsNorm(cmap, codes ):\n",
    "    cmap     = mpl.cm.get_cmap(cmap) if type(cmap)==str else cmap\n",
    "    cmaplist = [cmap(i) for i in range(len(codes))]\n",
    "    cmap     = LinearSegmentedColormap.from_list('cmap for codes', cmaplist, len(codes))\n",
    "    bounds   = np.arange(len(codes)+1)\n",
    "    norm     = mpl.colors.BoundaryNorm(bounds, cmap.N)\n",
    "    return cmap, bounds, norm\n",
    "\n",
    "def plotImageMaskMosaic( ims, masks, codes, cmap=\"tab20\", figsize=(9,12) ):\n",
    "    nb    = len(ims)\n",
    "    ncols = int(np.sqrt(nb))\n",
    "    nrows = int(math.ceil(nb/ncols))\n",
    "\n",
    "    fig  = plt.figure(figsize=figsize)\n",
    "    \n",
    "    cmap, bounds, norm = getColorBoundsNorm( cmap, codes )\n",
    "\n",
    "    gs = gridspec.GridSpec(nrows, ncols, height_ratios=np.zeros(nrows)+ 2, wspace=0.0, hspace=0.0)\n",
    "    \n",
    "    for i in range(nb):\n",
    "        inner = gridspec.GridSpecFromSubplotSpec(2, 1,subplot_spec=gs[i], wspace=0.0, hspace=0.0)\n",
    "        \n",
    "        ax = plt.subplot(inner[0])\n",
    "        ax.axis('off')\n",
    "        ax.imshow(ims[i])\n",
    "\n",
    "        ax = plt.subplot(inner[1])\n",
    "        ax.axis('off')\n",
    "        ax.imshow(masks[i],norm=norm, cmap=cmap)\n",
    "\n",
    "def showColorEncoding(codes, cmap=\"ctab20\") :\n",
    "    fig, ax = plt.subplots(figsize=(1, 12))\n",
    "    fig.subplots_adjust(bottom=0.5)\n",
    "\n",
    "    cmap, bounds, norm = getColorBoundsNorm( cmap, codes )\n",
    "    cb3 = mpl.colorbar.ColorbarBase(ax,cmap=cmap,norm=norm, boundaries=[-10] + bounds + [10],\n",
    "                                    ticks=bounds, spacing='uniform', orientation='vertical')\n",
    "    cb3.set_label('color encoding of class codes')\n",
    "    cb3.ax.yaxis.set_label_coords(1.25, .5)\n",
    "    cb3.set_ticklabels(codes)\n",
    "    cb3.set_ticks(0.5+bounds)\n",
    "    cb3.ax.yaxis.set_ticks_position('left')\n"
   ]
  },
  {
   "cell_type": "code",
   "execution_count": null,
   "metadata": {},
   "outputs": [
    {
     "name": "stdout",
     "output_type": "stream",
     "text": [
      "Selected dataset\n"
     ]
    },
    {
     "data": {
      "text/html": [
       "<div>\n",
       "<style scoped>\n",
       "    .dataframe tbody tr th:only-of-type {\n",
       "        vertical-align: middle;\n",
       "    }\n",
       "\n",
       "    .dataframe tbody tr th {\n",
       "        vertical-align: top;\n",
       "    }\n",
       "\n",
       "    .dataframe thead th {\n",
       "        text-align: right;\n",
       "    }\n",
       "</style>\n",
       "<table border=\"1\" class=\"dataframe\">\n",
       "  <thead>\n",
       "    <tr style=\"text-align: right;\">\n",
       "      <th></th>\n",
       "      <th>case_id</th>\n",
       "      <th>height</th>\n",
       "      <th>width</th>\n",
       "      <th>simple_pathology</th>\n",
       "      <th>patient_id</th>\n",
       "      <th>purpose</th>\n",
       "      <th>density</th>\n",
       "      <th>left_right</th>\n",
       "      <th>projection</th>\n",
       "      <th>obs id</th>\n",
       "      <th>...</th>\n",
       "      <th>malignant_calc</th>\n",
       "      <th>benign_mass</th>\n",
       "      <th>malignant_mass</th>\n",
       "      <th>rCenter</th>\n",
       "      <th>cCenter</th>\n",
       "      <th>tile_size</th>\n",
       "      <th>obsAreas</th>\n",
       "      <th>fnImage</th>\n",
       "      <th>fnMask</th>\n",
       "      <th>classes</th>\n",
       "    </tr>\n",
       "  </thead>\n",
       "  <tbody>\n",
       "    <tr>\n",
       "      <th>131</th>\n",
       "      <td>Calc-Test_P_00127_RIGHT_CC</td>\n",
       "      <td>5375</td>\n",
       "      <td>2882</td>\n",
       "      <td>MALIGNANT</td>\n",
       "      <td>P_00127</td>\n",
       "      <td>test</td>\n",
       "      <td>2.0</td>\n",
       "      <td>RIGHT</td>\n",
       "      <td>CC</td>\n",
       "      <td>1</td>\n",
       "      <td>...</td>\n",
       "      <td>35066</td>\n",
       "      <td>0</td>\n",
       "      <td>0</td>\n",
       "      <td>0.55</td>\n",
       "      <td>0.46</td>\n",
       "      <td>1048576</td>\n",
       "      <td>48236</td>\n",
       "      <td>Calc-Test_P_00127_RIGHT_CC_tile_2435_809.png</td>\n",
       "      <td>Calc-Test_P_00127_RIGHT_CC_tile_2435_809.png</td>\n",
       "      <td>malignant_calc</td>\n",
       "    </tr>\n",
       "    <tr>\n",
       "      <th>132</th>\n",
       "      <td>Calc-Test_P_00127_RIGHT_CC</td>\n",
       "      <td>5375</td>\n",
       "      <td>2882</td>\n",
       "      <td>MALIGNANT</td>\n",
       "      <td>P_00127</td>\n",
       "      <td>test</td>\n",
       "      <td>2.0</td>\n",
       "      <td>RIGHT</td>\n",
       "      <td>CC</td>\n",
       "      <td>1</td>\n",
       "      <td>...</td>\n",
       "      <td>48709</td>\n",
       "      <td>0</td>\n",
       "      <td>0</td>\n",
       "      <td>0.59</td>\n",
       "      <td>0.62</td>\n",
       "      <td>1048576</td>\n",
       "      <td>48236</td>\n",
       "      <td>Calc-Test_P_00127_RIGHT_CC_tile_2670_1289.png</td>\n",
       "      <td>Calc-Test_P_00127_RIGHT_CC_tile_2670_1289.png</td>\n",
       "      <td>malignant_calc</td>\n",
       "    </tr>\n",
       "    <tr>\n",
       "      <th>133</th>\n",
       "      <td>Calc-Test_P_00127_RIGHT_CC</td>\n",
       "      <td>5375</td>\n",
       "      <td>2882</td>\n",
       "      <td>MALIGNANT</td>\n",
       "      <td>P_00127</td>\n",
       "      <td>test</td>\n",
       "      <td>2.0</td>\n",
       "      <td>RIGHT</td>\n",
       "      <td>CC</td>\n",
       "      <td>1</td>\n",
       "      <td>...</td>\n",
       "      <td>48460</td>\n",
       "      <td>0</td>\n",
       "      <td>0</td>\n",
       "      <td>0.64</td>\n",
       "      <td>0.40</td>\n",
       "      <td>1048576</td>\n",
       "      <td>48236</td>\n",
       "      <td>Calc-Test_P_00127_RIGHT_CC_tile_2918_628.png</td>\n",
       "      <td>Calc-Test_P_00127_RIGHT_CC_tile_2918_628.png</td>\n",
       "      <td>malignant_calc</td>\n",
       "    </tr>\n",
       "    <tr>\n",
       "      <th>146</th>\n",
       "      <td>Calc-Test_P_00127_RIGHT_MLO</td>\n",
       "      <td>5669</td>\n",
       "      <td>2615</td>\n",
       "      <td>MALIGNANT</td>\n",
       "      <td>P_00127</td>\n",
       "      <td>test</td>\n",
       "      <td>2.0</td>\n",
       "      <td>RIGHT</td>\n",
       "      <td>MLO</td>\n",
       "      <td>1</td>\n",
       "      <td>...</td>\n",
       "      <td>23367</td>\n",
       "      <td>0</td>\n",
       "      <td>0</td>\n",
       "      <td>0.85</td>\n",
       "      <td>0.50</td>\n",
       "      <td>1048576</td>\n",
       "      <td>41836</td>\n",
       "      <td>Calc-Test_P_00127_RIGHT_MLO_tile_4301_806.png</td>\n",
       "      <td>Calc-Test_P_00127_RIGHT_MLO_tile_4301_806.png</td>\n",
       "      <td>malignant_calc</td>\n",
       "    </tr>\n",
       "    <tr>\n",
       "      <th>147</th>\n",
       "      <td>Calc-Test_P_00127_RIGHT_MLO</td>\n",
       "      <td>5669</td>\n",
       "      <td>2615</td>\n",
       "      <td>MALIGNANT</td>\n",
       "      <td>P_00127</td>\n",
       "      <td>test</td>\n",
       "      <td>2.0</td>\n",
       "      <td>RIGHT</td>\n",
       "      <td>MLO</td>\n",
       "      <td>1</td>\n",
       "      <td>...</td>\n",
       "      <td>42245</td>\n",
       "      <td>0</td>\n",
       "      <td>0</td>\n",
       "      <td>0.75</td>\n",
       "      <td>0.49</td>\n",
       "      <td>1048576</td>\n",
       "      <td>41836</td>\n",
       "      <td>Calc-Test_P_00127_RIGHT_MLO_tile_3733_758.png</td>\n",
       "      <td>Calc-Test_P_00127_RIGHT_MLO_tile_3733_758.png</td>\n",
       "      <td>malignant_calc</td>\n",
       "    </tr>\n",
       "  </tbody>\n",
       "</table>\n",
       "<p>5 rows × 30 columns</p>\n",
       "</div>"
      ],
      "text/plain": [
       "                         case_id  height  width simple_pathology patient_id  \\\n",
       "131   Calc-Test_P_00127_RIGHT_CC    5375   2882        MALIGNANT    P_00127   \n",
       "132   Calc-Test_P_00127_RIGHT_CC    5375   2882        MALIGNANT    P_00127   \n",
       "133   Calc-Test_P_00127_RIGHT_CC    5375   2882        MALIGNANT    P_00127   \n",
       "146  Calc-Test_P_00127_RIGHT_MLO    5669   2615        MALIGNANT    P_00127   \n",
       "147  Calc-Test_P_00127_RIGHT_MLO    5669   2615        MALIGNANT    P_00127   \n",
       "\n",
       "    purpose  density left_right projection  obs id       ...        \\\n",
       "131    test      2.0      RIGHT         CC       1       ...         \n",
       "132    test      2.0      RIGHT         CC       1       ...         \n",
       "133    test      2.0      RIGHT         CC       1       ...         \n",
       "146    test      2.0      RIGHT        MLO       1       ...         \n",
       "147    test      2.0      RIGHT        MLO       1       ...         \n",
       "\n",
       "    malignant_calc benign_mass malignant_mass  rCenter cCenter  tile_size  \\\n",
       "131          35066           0              0     0.55    0.46    1048576   \n",
       "132          48709           0              0     0.59    0.62    1048576   \n",
       "133          48460           0              0     0.64    0.40    1048576   \n",
       "146          23367           0              0     0.85    0.50    1048576   \n",
       "147          42245           0              0     0.75    0.49    1048576   \n",
       "\n",
       "    obsAreas                                        fnImage  \\\n",
       "131    48236   Calc-Test_P_00127_RIGHT_CC_tile_2435_809.png   \n",
       "132    48236  Calc-Test_P_00127_RIGHT_CC_tile_2670_1289.png   \n",
       "133    48236   Calc-Test_P_00127_RIGHT_CC_tile_2918_628.png   \n",
       "146    41836  Calc-Test_P_00127_RIGHT_MLO_tile_4301_806.png   \n",
       "147    41836  Calc-Test_P_00127_RIGHT_MLO_tile_3733_758.png   \n",
       "\n",
       "                                            fnMask         classes  \n",
       "131   Calc-Test_P_00127_RIGHT_CC_tile_2435_809.png  malignant_calc  \n",
       "132  Calc-Test_P_00127_RIGHT_CC_tile_2670_1289.png  malignant_calc  \n",
       "133   Calc-Test_P_00127_RIGHT_CC_tile_2918_628.png  malignant_calc  \n",
       "146  Calc-Test_P_00127_RIGHT_MLO_tile_4301_806.png  malignant_calc  \n",
       "147  Calc-Test_P_00127_RIGHT_MLO_tile_3733_758.png  malignant_calc  \n",
       "\n",
       "[5 rows x 30 columns]"
      ]
     },
     "metadata": {},
     "output_type": "display_data"
    },
    {
     "name": "stdout",
     "output_type": "stream",
     "text": [
      "purpose  observation    classes       \n",
      "test     calcification  benign_calc       169\n",
      "                        malignant_calc    167\n",
      "train    calcification  benign_calc       916\n",
      "                        malignant_calc    667\n",
      "Name: fnImage, dtype: int64\n"
     ]
    }
   ],
   "source": [
    "cases = pd.read_csv( path / \"tiles.csv\", sep=\";\", low_memory=False)\n",
    "#print(f\"cases.columns:{cases.columns}\")\n",
    "cases.drop(\"Unnamed: 0\",axis=1,inplace=True)\n",
    "#display(cases.tail(2))\n",
    "\n",
    "#print(\"Stat of dataset before selection\")\n",
    "#gp = cases.groupby( [\"purpose\", \"observation\", \"simple_pathology\"])[\"fnImage\"].count()\n",
    "#print( gp )\n",
    "\n",
    "codes = [obs.name.lower() for obs in ObsType]\n",
    "#print(f\"codes:{codes}\")\n",
    "\n",
    "complexity={\n",
    "            \"malignant_calc\":\"malignant_calc > 0.01*tile_size and benign_calc==0    and empty==0\",\n",
    "            \"benign_calc\":   \"benign_calc    > 0.02*tile_size and malignant_calc==0 and empty==0\"\n",
    "#            \"pHealthy\":\"pAir==0 and pBenign==0 and pMalignant==0\",\n",
    "#            \"malignant_calc\":\"malignant_calc > 0.1*tile_size and malignant_calc > 0.5*obsAreas and benign_calc==0 and empty==0\",\n",
    "#            \"pAir\":\"pAir>0.2 and pAir<1.0\", \n",
    "#            \"benign_calc\":\"benign_calc/tile_size>0.1 and benign_calc > 0.5*obsAreas and malignant_calc==0 and empty==0\"\n",
    "#            \"pMalignant\":\"pMalignant > 0.99*obsAreas and pBenign==0 and pAir==0\"\n",
    "}\n",
    "nb=1000\n",
    "\n",
    "test   = selectCases( cases, \"test\",  complexity=complexity, nb=nb//2 )\n",
    "train  = selectCases( cases, \"train\", complexity=complexity, nb=nb )\n",
    "dfData = test.append(train)\n",
    "print(\"Selected dataset\")\n",
    "display(dfData.head())\n",
    "gp = dfData.groupby( [\"purpose\", \"observation\", \"classes\"])[\"fnImage\"].count()\n",
    "print( gp )\n"
   ]
  },
  {
   "cell_type": "code",
   "execution_count": null,
   "metadata": {},
   "outputs": [
    {
     "name": "stdout",
     "output_type": "stream",
     "text": [
      "average number of pixels pr class\n",
      "         empty  normal  benign_calc  malignant_calc  benign_mass  \\\n",
      "purpose                                                            \n",
      "test         0  888387        56617          103570            0   \n",
      "train        0  893745        60376           94454            0   \n",
      "\n",
      "         malignant_mass  \n",
      "purpose                  \n",
      "test                  0  \n",
      "train                 0  \n",
      "\n",
      "frequency of pixel codes\n",
      "         empty  normal  benign_calc  malignant_calc  benign_mass  \\\n",
      "purpose                                                            \n",
      "test    $0.000  $0.847       $0.054          $0.099       $0.000   \n",
      "train   $0.000  $0.852       $0.058          $0.090       $0.000   \n",
      "\n",
      "         malignant_mass  \n",
      "purpose                  \n",
      "test             $0.000  \n",
      "train            $0.000  \n",
      "code:empty weigth:0.000\n",
      "code:normal weigth:0.040\n",
      "code:benign_calc weigth:0.621\n",
      "code:malignant_calc weigth:0.339\n",
      "code:benign_mass weigth:0.000\n",
      "code:malignant_mass weigth:0.000\n"
     ]
    },
    {
     "data": {
      "text/plain": [
       "9"
      ]
     },
     "execution_count": 6,
     "metadata": {},
     "output_type": "execute_result"
    }
   ],
   "source": [
    "#dfData = cases[np.isin(cases.case_id, selection )]\n",
    "\n",
    "#calculate the weights of the classes in the loss function\n",
    "gp = dfData.groupby([\"purpose\"])[codes].mean().astype(np.int)\n",
    "print(\"average number of pixels pr class\")\n",
    "print(gp)\n",
    "\n",
    "s = gp.sum(axis=1)\n",
    "gp.iloc[0] /= s.iloc[0]\n",
    "gp.iloc[1] /= s.iloc[1]\n",
    "print(\"\\nfrequency of pixel codes\")\n",
    "pd.options.display.float_format = '${:,.3f}'.format\n",
    "print(gp)\n",
    "\n",
    "code_weights = 1. / (gp+1e-6)\n",
    "code_weights[gp==0] = 0\n",
    "#print(\"code_weights\\n\", code_weights)\n",
    "\n",
    "s = code_weights.sum(axis=1)\n",
    "code_weights.iloc[0] /= s.iloc[0]\n",
    "code_weights.iloc[1] /= s.iloc[1]\n",
    "#print(code_weights)\n",
    "code_weights = code_weights.iloc[0].values\n",
    "[print(f\"code:{c} weigth:{w:.3f}\") for c,w in zip(codes,code_weights)]\n",
    "\n",
    "gc.collect()"
   ]
  },
  {
   "cell_type": "code",
   "execution_count": null,
   "metadata": {},
   "outputs": [
    {
     "name": "stdout",
     "output_type": "stream",
     "text": [
      "s:[0.185173 0.207602 0.217735 0.15863  0.230861]\n",
      "mean,sd: 0.20000000000000004  0.025518825045347495  0.15862956424791183  0.23086094826363715\n"
     ]
    }
   ],
   "source": [
    "def noise_zm( scale, w ):\n",
    "    s = 1+scale*(np.random.rand(len(w))-.5)*2\n",
    "    w *= s\n",
    "    return s/s.sum()\n",
    "def noise_p( scale, size ):\n",
    "    return scale*np.random.rand(size)\n",
    "def noise_weigths( scale, w ):\n",
    "    #add uniform noise at scale to non zero w\n",
    "    wn = w + scale*np.random.rand(len(w))*(w>0)\n",
    "    return wn/wn.sum()\n",
    "\n",
    "def torch_weigths_add_noise( scale, w ):\n",
    "    #add uniform noise at scale to non zero w\n",
    "    wn = w + scale*torch.rand(len(w))\n",
    "    wn[w.le(0)] = 0\n",
    "    return wn/wn.sum()\n",
    "\n",
    "def torch_weigths_mult_noise( scale, w ):\n",
    "    #add uniform noise at scale to non zero w\n",
    "    s  = 1.0 + scale*2.*( torch.rand(len(w))-0.5)  \n",
    "    w  = w*s\n",
    "    return w/w.sum()\n",
    "\n",
    "w = np.zeros(5)+1\n",
    "s = noise_zm(.2,w)\n",
    "\n",
    "print(f\"s:{s}\")\n",
    "print(f\"mean,sd: {s.mean()}  {s.std()}  {s.min()}  {s.max()}\")"
   ]
  },
  {
   "cell_type": "code",
   "execution_count": null,
   "metadata": {},
   "outputs": [
    {
     "name": "stdout",
     "output_type": "stream",
     "text": [
      "tensor([0.0000, 0.0264, 0.5292, 0.4444, 0.0000, 0.0000])\n",
      "code_weights:[0.       0.039575 0.620967 0.339457 0.       0.      ]\n",
      "           w:tensor([0.0000, 0.0264, 0.5292, 0.4444, 0.0000, 0.0000])\n",
      "          w2:tensor([0.0000, 0.6670, 0.8523, 1.3090, 0.0000, 0.0000])\n",
      "code_weights   -mean,sd: 0.16666666666666666  0.23654863361804015  0.0  0.6209674991278945\n",
      "code_weights+s -mean,sd: 0.3333333333333333  0.10818619048530675  0.25096006102181206  0.4861773056748708\n",
      "code_weights+s2-mean,sd: 0.3333333432674408  0.26917967200279236  0.026398219168186188  0.5292371511459351\n"
     ]
    }
   ],
   "source": [
    "scale = 0.5\n",
    "w  = noise_weigths( scale, code_weights )\n",
    "ix = w>0.\n",
    "\n",
    "wt = torch.from_numpy(code_weights.astype(np.float32))\n",
    "w2 = torch_weigths_mult_noise( scale, wt  )\n",
    "ixt = w2>0.\n",
    "print(w2)\n",
    "\n",
    "#print(.2 * (np.random.ranf()-.5) + 1)\n",
    "print(f\"code_weights:{code_weights}\" )\n",
    "print(f\"           w:{w2}\" )\n",
    "print(f\"          w2:{w2/(1e-6+wt)}\" )\n",
    "print(f\"code_weights   -mean,sd: {code_weights.mean()}  {code_weights.std()}  {code_weights.min()}  {code_weights.max()}\")\n",
    "print(f\"code_weights+s -mean,sd: {w[ix].mean()}  {w[ix].std()}  {w[ix].min()}  {w[ix].max()}\")\n",
    "print(f\"code_weights+s2-mean,sd: {w2[ixt].mean()}  {w2[ixt].std()}  {w2[ixt].min()}  {w2[ixt].max()}\")\n"
   ]
  },
  {
   "cell_type": "raw",
   "metadata": {},
   "source": [
    "files = list((path/dvalid/dxrays).iterdir())\n",
    "r     = dfData.iloc[0]\n",
    "fn_im = path/(dtrain if r.purpose==\"train\" else dvalid)/dxrays/r.fnImage\n",
    "im    = open_image_16bit2rgb(fn_im)\n",
    "show_image( im, figsize=(5,5) )"
   ]
  },
  {
   "cell_type": "raw",
   "metadata": {},
   "source": [
    "fn_msk = path / (dtrain if r.purpose==\"train\" else dvalid)/dmasks/r.fnImage\n",
    "mask   = open_mask(fn_msk)\n",
    "mask.show(figsize=(5,5), cmap=\"tab20\", alpha=.5)"
   ]
  },
  {
   "cell_type": "code",
   "execution_count": null,
   "metadata": {},
   "outputs": [],
   "source": [
    "def getSegmentationTransforms():\n",
    "    max_zoom     = 1.1\n",
    "    max_rotate   = 0.1\n",
    "    brightnes_range = (0.8, 1.0)\n",
    "    contrast_range  = (0.85, 1.05)\n",
    "    rotate_range    = (-10, 10) # degrees\n",
    "    warp_range     = (-0.1, 0.1)\n",
    "    tfmTrain,tfmValid =[],[]\n",
    "    tfmTrain.append(crop_pad())\n",
    "    #tfmTrain.append( rand_crop() )\n",
    "    tfmTrain.append( dihedral_affine() )\n",
    "    \n",
    "    tfmTrain.append( rotate(degrees=rotate_range, p=.5) )\n",
    "    \"\"\"\n",
    "    #tfmTrain.append( flip_affine(p=0.5) )\n",
    "    \n",
    "    #tfmTrain.append( skew( np.arange, p=0.75) )\n",
    "    tfmTrain.append( symmetric_warp(magnitude=warp_range, p=0.5) )\n",
    "    #tfmTrain.append( perspective_warp(magnitude=warp_range, p=0.25) )\n",
    "    \n",
    "    #tfmTrain.append( rand_zoom(scale=(1.,max_zoom), p=0.75) )\n",
    "\n",
    "    tfmTrain.append( jitter(magnitude=0.01) )\n",
    "    \"\"\"\n",
    "    \n",
    "    if brightnes_range is not None: tfmTrain.append( brightness(change=brightnes_range, p=0.25) )\n",
    "    if contrast_range is not None:  tfmTrain.append( contrast(scale=contrast_range,     p=0.25) )\n",
    "        \n",
    "    tfmValid.append(crop_pad())\n",
    "    #tfmValid.append( flip_affine(p=0.5) )\n",
    "    return (tfmTrain, tfmValid)"
   ]
  },
  {
   "cell_type": "code",
   "execution_count": null,
   "metadata": {},
   "outputs": [],
   "source": [
    "ixTrain  = dfData.purpose==\"train\"\n",
    "ixValid  = ixTrain == False\n",
    "\n",
    "train  = join_paths(dfData.fnImage[ixTrain].values, path/dtrain/dxrays)\n",
    "valid  = join_paths(dfData.fnImage[ixValid].values, path/dvalid/dxrays)\n",
    "\n",
    "get_y_fn   = lambda x: x.parents[1]/dmasks/x.name \n",
    "valid_func = lambda x: x.parts[-3] == dvalid\n",
    "\n",
    "def open_image_16bit2rgb( fn ): \n",
    "    a = np.asarray(PIL.Image.open( fn ))\n",
    "    a = np.expand_dims(a,axis=2)\n",
    "    a = np.repeat(a, 3, axis=2)\n",
    "    return Image( pil2tensor(a, np.float32 ).div(65535) )\n",
    "\n",
    "vision.data.open_image = open_image_16bit2rgb\n",
    "\n",
    "src = (SegmentationItemList( list(train+valid), create_func=open_image_16bit2rgb, path=\"\")\n",
    "                           .split_by_valid_func(valid_func)\n",
    "                           .label_from_func(get_y_fn, classes=codes)           \n",
    "      )"
   ]
  },
  {
   "cell_type": "code",
   "execution_count": null,
   "metadata": {},
   "outputs": [],
   "source": [
    "bs,size=16,224\n",
    "data = ( src.transform(getSegmentationTransforms(), size=size, tfm_y=True)\n",
    "            .databunch(bs=bs)\n",
    "            .normalize(imagenet_stats) )\n",
    "#data.show_batch(2, figsize=(10,7))"
   ]
  },
  {
   "cell_type": "code",
   "execution_count": null,
   "metadata": {},
   "outputs": [],
   "source": [
    "#import fastai.core\n",
    "#from fastai.layers import *\n",
    "import torch.nn as nn\n",
    "import torch.nn.functional as F\n",
    "from torch.autograd import Variable\n",
    "\n",
    "def accuracy_(input, target):\n",
    "    #The input.argmax(dim=1) selects the winner class pr pixel, thereby reducing \n",
    "    #the input shape from (bs, classes, width, height) => (bs, width, height)\n",
    "    #We, therefore, have to reshape the target tensor from (bs, 1, width, height) to (bs, width, height)\n",
    "    sz     = target.size()\n",
    "    target = target.reshape( (sz[0],sz[2],sz[3]) )\n",
    "    return (input.argmax(dim=1).flatten()==target.flatten()).float().mean()\n",
    "\n",
    "def torch_weigths_add_noise( scale, w ):\n",
    "    #add uniform noise at scale to non zero w\n",
    "    wn = w + scale*torch.rand(len(w)).cuda()\n",
    "    wn[w.le(0)] = 0\n",
    "    return wn/wn.sum()\n",
    "\n",
    "def torch_weigths_mult_noise( scale, w ):\n",
    "    #add uniform noise at scale to non zero w\n",
    "    s  = 1.0 + scale*2.*( torch.rand(len(w)).cuda()-0.5)  \n",
    "    w  = w*s\n",
    "    return w/w.sum()\n",
    "\"\"\"\n",
    "class WeighedCrossEntropy(CrossEntropyFlat):\n",
    "    def __init__( self, weights ):\n",
    "        super().__init__(weight=torch.from_numpy( np.asarray(weights,np.float32) ).cuda() )\n",
    "        self.register_buffer(\"weight_mask\",torch.from_numpy( (weights>0.0).astype(np.float32) ).cuda())\n",
    "                             \n",
    "    def forward(self, input:Tensor, target:Tensor) -> Rank0Tensor:\n",
    "        scale  = .5\n",
    "        w      = torch_weigths_mult_noise(scale, self.weight)\n",
    "        n,c,*_ = input.shape\n",
    "        return F.cross_entropy(input.view(n, c, -1), target.view(n, -1), weight=w,\n",
    "                               ignore_index=self.ignore_index, reduction=self.reduction)\n",
    "\"\"\"\n",
    "\n",
    "\n",
    "class DiceLoss(nn.Module):\n",
    "    dicemsg=\"\"\n",
    "    @staticmethod\n",
    "    def dice_loss_1ch(input, target):\n",
    "        smooth = 1.\n",
    "        input = torch.sigmoid(input)\n",
    "        iflat = input.view(-1)\n",
    "        tflat = target.view(-1)\n",
    "        #DiceLoss.dicemsg = (f\"shape of input:{input.shape}, target:{target.shape} \\\n",
    "        #                     input.type():{input.type()} iflat.type():{iflat.type()}  tflat.type():{tflat.type()}\")\n",
    "        intersection = (iflat * tflat).sum()\n",
    "        return 1 - ((2. * intersection + smooth) / (iflat.sum() + tflat.sum() + smooth))\n",
    "        \n",
    "        #prediction = self.sigmoid(output)\n",
    "        #return 1 - 2 * torch.sum(prediction * target) / (torch.sum(prediction) + torch.sum(target) + 1e-7)\n",
    "        \n",
    "    @staticmethod\n",
    "    def dice_loss_nch(input, target):\n",
    "        dlc = 0\n",
    "        bs, n_classes = input.shape[:2] \n",
    "        target = target.squeeze().float()\n",
    "        n_real_classes=0\n",
    "        for i in range(n_classes):\n",
    "            if code_weights[i] > 0:\n",
    "                dlc += DiceLoss.dice_loss_1ch(input[:,i], target)\n",
    "                n_real_classes+=1\n",
    "        return dlc/n_real_classes/bs\n",
    "    \n",
    "    def __init__(self):\n",
    "        super().__init__()\n",
    "        #super(DiceLoss, self).__init__()\n",
    "        self.smooth = 1.\n",
    "                             \n",
    "    def forward(self, input, target):\n",
    "        #input = torch.sigmoid(input)\n",
    "        #preds = input.argmax(dim=1)\n",
    "        #preds = preds.view(preds.shape[0], -1, preds.shape[1], preds.shape[2] )\n",
    "        #preds = preds.view_as(target)\n",
    "        #DiceLoss.dicemsg = (f\"shape of input:{input.shape} of target:{target.shape} preds:{preds.shape} preds\\n{preds}\")\n",
    "        return DiceLoss.dice_loss_nch(input,target)\n",
    "\n",
    "class FocalLoss(nn.Module):\n",
    "    def __init__(self, gamma=0, alpha=None, size_average=True):\n",
    "        super(FocalLoss, self).__init__()\n",
    "        self.gamma = gamma\n",
    "        self.alpha = alpha\n",
    "        if isinstance(alpha,(np.float32)): self.alpha = torch.Tensor([alpha,1-alpha])\n",
    "        if isinstance(alpha,list): self.alpha = torch.Tensor(alpha)\n",
    "        self.size_average = size_average\n",
    "\n",
    "    def forward(self, input, target):\n",
    "        if input.dim()>2:\n",
    "            input = input.view(input.size(0),input.size(1),-1)  # N,C,H,W => N,C,H*W\n",
    "            input = input.transpose(1,2)    # N,C,H*W => N,H*W,C\n",
    "            input = input.contiguous().view(-1,input.size(2))   # N,H*W,C => N*H*W,C\n",
    "        target = target.view(-1,1)\n",
    "\n",
    "        logpt = F.log_softmax(input)\n",
    "        logpt = logpt.gather(1,target)\n",
    "        logpt = logpt.view(-1)\n",
    "        pt = Variable(logpt.data.exp())\n",
    "\n",
    "        if self.alpha is not None:\n",
    "            if self.alpha.type()!=input.data.type():\n",
    "                self.alpha = self.alpha.type_as(input.data)\n",
    "            at = self.alpha.gather(0,target.data.view(-1))\n",
    "            logpt = logpt * Variable(at)\n",
    "\n",
    "        loss = -1 * (1-pt)**self.gamma * logpt\n",
    "        if self.size_average: return loss.mean()\n",
    "        else: return loss.sum()    "
   ]
  },
  {
   "cell_type": "code",
   "execution_count": null,
   "metadata": {},
   "outputs": [
    {
     "name": "stdout",
     "output_type": "stream",
     "text": [
      "code:empty weigth:0.000\n",
      "code:normal weigth:0.040\n",
      "code:benign_calc weigth:0.621\n",
      "code:malignant_calc weigth:0.339\n",
      "code:benign_mass weigth:0.000\n",
      "code:malignant_mass weigth:0.000\n"
     ]
    }
   ],
   "source": [
    "[print(f\"code:{c} weigth:{w:.3f}\") for c,w in zip(codes,code_weights)]\n",
    "learn = Learner.create_unet(data, models.resnet34, loss_func= DiceLoss(), # FocalLoss(gamma=2.,alpha=.25), # WeighedCrossEntropy(code_weights),  \n",
    "                            metrics=accuracy_)\n"
   ]
  },
  {
   "cell_type": "code",
   "execution_count": null,
   "metadata": {},
   "outputs": [
    {
     "data": {
      "text/plain": [
       "''"
      ]
     },
     "execution_count": 14,
     "metadata": {},
     "output_type": "execute_result"
    }
   ],
   "source": [
    "DiceLoss.dicemsg"
   ]
  },
  {
   "cell_type": "code",
   "execution_count": null,
   "metadata": {},
   "outputs": [
    {
     "name": "stdout",
     "output_type": "stream",
     "text": [
      "LR Finder is complete, type {learner_name}.recorder.plot() to see the graph.\n"
     ]
    }
   ],
   "source": [
    "lr_find(learn)\n",
    "n=gc.collect()\n",
    "torch.cuda.empty_cache()"
   ]
  },
  {
   "cell_type": "code",
   "execution_count": null,
   "metadata": {},
   "outputs": [
    {
     "data": {
      "image/png": "[encoded data removed]",
      "text/plain": [
       "<Figure size 432x288 with 1 Axes>"
      ]
     },
     "metadata": {
      "needs_background": "light"
     },
     "output_type": "display_data"
    }
   ],
   "source": [
    "learn.recorder.plot()"
   ]
  },
  {
   "cell_type": "code",
   "execution_count": null,
   "metadata": {},
   "outputs": [
    {
     "data": {
      "text/html": [
       "\n",
       "    <div>\n",
       "        <style>\n",
       "        \t/* Turns off some styling */\n",
       "        \tprogress {\n",
       "\n",
       "            \t/* gets rid of default border in Firefox and Opera. */\n",
       "            \tborder: none;\n",
       "\n",
       "            \t/* Needs to be in here for Safari polyfill so background images work as expected. */\n",
       "            \tbackground-size: auto;\n",
       "            }\n",
       "\n",
       "            .progress-bar-interrupted, .progress-bar-interrupted::-webkit-progress-bar {\n",
       "                background: #F44336;\n",
       "            }\n",
       "        </style>\n",
       "      <progress value='1' class='' max='6', style='width:300px; height:20px; vertical-align: middle;'></progress>\n",
       "      16.67% [1/6 00:20<01:44]\n",
       "    </div>\n",
       "    \n",
       "<table style='width:300px; margin-bottom:10px'>\n",
       "  <tr>\n",
       "    <th>epoch</th>\n",
       "    <th>train_loss</th>\n",
       "    <th>valid_loss</th>\n",
       "    <th>accuracy_</th>\n",
       "  </tr>\n",
       "  <tr>\n",
       "    <th>1</th>\n",
       "    <th>0.009404</th>\n",
       "    <th>-0.004333</th>\n",
       "    <th>0.098531</th>\n",
       "  </tr>\n",
       "  <tr>\n",
       "\n",
       "  </tr>\n",
       "</table>\n",
       "\n",
       "\n",
       "    <div>\n",
       "        <style>\n",
       "        \t/* Turns off some styling */\n",
       "        \tprogress {\n",
       "\n",
       "            \t/* gets rid of default border in Firefox and Opera. */\n",
       "            \tborder: none;\n",
       "\n",
       "            \t/* Needs to be in here for Safari polyfill so background images work as expected. */\n",
       "            \tbackground-size: auto;\n",
       "            }\n",
       "\n",
       "            .progress-bar-interrupted, .progress-bar-interrupted::-webkit-progress-bar {\n",
       "                background: #F44336;\n",
       "            }\n",
       "        </style>\n",
       "      <progress value='40' class='' max='99', style='width:300px; height:20px; vertical-align: middle;'></progress>\n",
       "      40.40% [40/99 00:08<00:12 0.0014]\n",
       "    </div>\n",
       "    "
      ],
      "text/plain": [
       "<IPython.core.display.HTML object>"
      ]
     },
     "metadata": {},
     "output_type": "display_data"
    }
   ],
   "source": [
    "lr=2e-3\n",
    "learn.fit_one_cycle(6, slice(lr))\n",
    "n=gc.collect()\n",
    "torch.cuda.empty_cache()"
   ]
  },
  {
   "cell_type": "code",
   "execution_count": null,
   "metadata": {},
   "outputs": [],
   "source": [
    "learn.save('resnet34-stage-1')\n",
    "n=gc.collect()\n",
    "torch.cuda.empty_cache()"
   ]
  },
  {
   "cell_type": "code",
   "execution_count": null,
   "metadata": {},
   "outputs": [],
   "source": [
    "learn.load('resnet34-stage-1');"
   ]
  },
  {
   "cell_type": "code",
   "execution_count": null,
   "metadata": {
    "scrolled": true
   },
   "outputs": [],
   "source": [
    "learn.show_results(rows=bs)"
   ]
  },
  {
   "cell_type": "code",
   "execution_count": null,
   "metadata": {},
   "outputs": [],
   "source": [
    "torch.cuda.empty_cache()\n",
    "gc.collect()\n",
    "bs,size=4,448\n",
    "data = (src.transform(getSegmentationTransforms(), size=size, tfm_y=True)\n",
    "        .databunch(bs=bs)\n",
    "        .normalize(imagenet_stats))\n",
    "\n",
    "learn = Learner.create_unet(data, models.resnet34, loss_func= WeighedCrossEntropy(code_weights), \n",
    "                            metrics=accuracy_)\n",
    "learn.loss_func= WeighedCrossEntropy(code_weights)"
   ]
  },
  {
   "cell_type": "code",
   "execution_count": null,
   "metadata": {},
   "outputs": [],
   "source": [
    "lr_find(learn)\n",
    "learn.recorder.plot()"
   ]
  },
  {
   "cell_type": "code",
   "execution_count": null,
   "metadata": {},
   "outputs": [],
   "source": [
    "lr=2e-3\n",
    "learn.fit_one_cycle(6, lr)"
   ]
  },
  {
   "cell_type": "code",
   "execution_count": null,
   "metadata": {
    "scrolled": false
   },
   "outputs": [],
   "source": [
    "learn.recorder.plot_losses(), plt.show(), learn.recorder.plot_metrics()"
   ]
  },
  {
   "cell_type": "code",
   "execution_count": null,
   "metadata": {},
   "outputs": [],
   "source": [
    "learn.save('resnet34-stage-2');"
   ]
  },
  {
   "cell_type": "code",
   "execution_count": null,
   "metadata": {},
   "outputs": [],
   "source": [
    "learn.show_results(rows=bs)"
   ]
  },
  {
   "cell_type": "markdown",
   "metadata": {},
   "source": [
    "# GO BIG"
   ]
  },
  {
   "cell_type": "code",
   "execution_count": null,
   "metadata": {},
   "outputs": [],
   "source": [
    "#bs,size=4,448\n",
    "bs,size=4//2,2*448\n",
    "data = (src.transform(getSegmentationTransforms(), size=size, tfm_y=True)\n",
    "        .databunch(bs=bs)\n",
    "        .normalize(imagenet_stats))\n",
    "\n",
    "learn = Learner.create_unet(data, models.resnet34, loss_func= WeighedCrossEntropy(code_weights), \n",
    "                            metrics=accuracy_)"
   ]
  },
  {
   "cell_type": "code",
   "execution_count": null,
   "metadata": {},
   "outputs": [],
   "source": [
    "learn.load('resnet34-stage-2');"
   ]
  },
  {
   "cell_type": "code",
   "execution_count": null,
   "metadata": {},
   "outputs": [],
   "source": [
    "lr_find(learn)\n",
    "learn.recorder.plot()"
   ]
  },
  {
   "cell_type": "code",
   "execution_count": null,
   "metadata": {
    "scrolled": true
   },
   "outputs": [],
   "source": [
    "lrs = slice(1e-7,lr/5)\n",
    "learn.fit_one_cycle(6, lrs, moms=(0.97,0.92) )\n",
    "n=gc.collect()\n",
    "torch.cuda.empty_cache()"
   ]
  },
  {
   "cell_type": "code",
   "execution_count": null,
   "metadata": {},
   "outputs": [],
   "source": [
    "learn.recorder.plot_losses(), plt.show(), learn.recorder.plot_metrics()"
   ]
  },
  {
   "cell_type": "code",
   "execution_count": null,
   "metadata": {},
   "outputs": [],
   "source": [
    "learn.show_results(rows=bs)"
   ]
  },
  {
   "cell_type": "code",
   "execution_count": null,
   "metadata": {},
   "outputs": [],
   "source": [
    "learn.save('resnet34-stage-big-good');"
   ]
  },
  {
   "cell_type": "code",
   "execution_count": null,
   "metadata": {},
   "outputs": [],
   "source": [
    "def getResults(learn, n:int, ds_type=DatasetType.Valid):\n",
    "    ds = learn.dl(ds_type).dataset\n",
    "    xys, y_p, preds,  = [],[],None\n",
    "    ip = 0\n",
    "    for i in range(n):\n",
    "        xys.append( ds[i] )\n",
    "        if preds is None or preds.shape[0] <= ip:\n",
    "            preds = learn.pred_batch(ds_type)\n",
    "            ip    = 0\n",
    "        y_p.append(preds[ip])\n",
    "        ip += 1\n",
    "        \n",
    "    x,y,p=[],[],[]\n",
    "    for i, xy in enumerate(xys):\n",
    "        x_,y_ = xy\n",
    "        x.append(x_)\n",
    "        y.append(y_)\n",
    "        p.append(y_.reconstruct_output(y_p[i],x_) )\n",
    "    return x,y,p\n",
    "    #print(f\"{len(x)}, {len(y)}, {len(p)}\")\n",
    "    \n",
    "xs,ys,y_ps = getResults(learn,n=20)\n"
   ]
  },
  {
   "cell_type": "code",
   "execution_count": null,
   "metadata": {},
   "outputs": [],
   "source": [
    "xs[0].show(), ys[0].show(),  y_ps[0].show()"
   ]
  },
  {
   "cell_type": "code",
   "execution_count": null,
   "metadata": {},
   "outputs": [],
   "source": [
    "n=9\n",
    "ims,masks = [],[]\n",
    "for i in range(n):\n",
    "    x,y = data.train_ds[i]\n",
    "    ims.append(   image2np(x.data) ) \n",
    "    masks.append( image2np(y.data) )\n",
    "print(\"classes i mask:\"), [print(f\"mask {i}:{np.unique(m)}\") for i,m in enumerate(masks)]\n",
    "\n",
    "cmap=plt.cm.tab10\n",
    "showColorEncoding(codes, cmap=cmap)     \n",
    "plotImageMaskMosaic(ims, masks, codes, cmap=cmap, figsize=(10,14))\n",
    "\n",
    "print(data.classes) len(data.classes),data.c"
   ]
  },
  {
   "cell_type": "raw",
   "metadata": {},
   "source": [
    "lr_find(learn, start_lr = 1e-04,end_lr=100.0 )\n",
    "learn.recorder.plot(skip_end=4)"
   ]
  },
  {
   "cell_type": "raw",
   "metadata": {
    "scrolled": true
   },
   "source": [
    "#torch.cuda.empty_cache()\n",
    "gc.collect()\n",
    "\n",
    "bs   = [16,4,2] \n",
    "size = np.asarray([1, 2, 3])*224\n",
    "lr   = [0.001, 0.005, 0.01]\n",
    "msg = []\n",
    "learn = None\n",
    "for i in range(0,len(lr)):\n",
    "    data = ImageDataBunch.create(dsTrain, dsValid, ds_tfms=tfms, tfm_y=True, bs=bs[i], size=size[i] )\n",
    "    data.normalize(imagenet_stats)\n",
    "\n",
    "    if learn is None : \n",
    "        learn = Learner.create_unet(data, models.resnet50, loss_func= WeighedCrossEntropy(code_weights), \n",
    "                                    metrics=accuracy_)\n",
    "    else: \n",
    "        learn.data = data\n",
    "    \n",
    "    train_ds_im_size,valid_ds_im_size = learn.data.train_ds.kwargs[\"size\"], learn.data.valid_ds.kwargs[\"size\"]\n",
    "    msg.append( f\"batch size:{bs[i]} image size for train_ds { train_ds_im_size} - valid_ds for {valid_ds_im_size}\" )\n",
    "    \n",
    "    torch.cuda.empty_cache()\n",
    "    gc.collect()\n",
    "    learn.fit_one_cycle(len(lr)-i, max_lr=lr[i])\n",
    "\n",
    "msg"
   ]
  },
  {
   "cell_type": "raw",
   "metadata": {},
   "source": [
    "def plotTensor( im ):       \n",
    "    colorMap = plt.cm.gray if im.ndim == 2 else None \n",
    "    \n",
    "    fig = plt.figure(figsize=(8,8)) \n",
    "    plt.imshow(im, cmap=colorMap)    \n",
    "    plt.show()\n",
    "    \n",
    "def createFilterImage( weights ) :   \n",
    "    #scale to 0-1 and put the channel in the last as expect by matplotlib\n",
    "    weights = 0.5*np.copy(weights+1.0)\n",
    "    weights = np.rollaxis(weights, 1, 4)\n",
    "    \n",
    "    filter_dim = weights.shape[1]\n",
    "    dim = int( 0.5+ np.sqrt( weights.shape[0] ) ) * filter_dim\n",
    "    \n",
    "    im = np.zeros([dim,dim,weights.shape[3]])\n",
    "    for i in range(8):\n",
    "        io = i*filter_dim\n",
    "        for j in range(8):\n",
    "            jo = j*filter_dim            \n",
    "            i_filter = i*(filter_dim+1) + j\n",
    "            #print( \"\\ni_filter: {}:  i_off: {} - {},  j_off: {} - {}\",  i_filter, io, (io+filter_dim), jo,(jo+filter_dim) )\n",
    "            im[io:(io+filter_dim), jo:(jo+filter_dim), :] = weights[i_filter,:,:,:]\n",
    "\n",
    "    im = np.squeeze(im)        \n",
    "    return im, filter_dim\n",
    "\n",
    "def getLayers( model ): \n",
    "    layers=[]\n",
    "    for g in list( model.children() ):\n",
    "        layers.extend( list(g.children()) )\n",
    "    return layers\n",
    "\n",
    "def WeightsAsImage(model) :\n",
    "    layers = getLayers(model)\n",
    "    l      = layers[0]\n",
    "    \n",
    "    w = l.weight.data.cpu().numpy()\n",
    "    im, filter_dim = createFilterImage(w)\n",
    "    return im\n",
    "    \n",
    "def printWeight( model, i0=0, i1=1 ):\n",
    "    layers = getLayers(model)\n",
    " \n",
    "    for l in layers[i0:i1]:        \n",
    "        print(\"meatadata for layer: \", l)\n",
    "        w = l.weight.data.cpu().numpy()\n",
    "        im, filter_dim = createFilterImage(w)\n",
    "        print(\"One image with all n filterweight with size \", w.shape[0], filter_dim, filter_dim )\n",
    "        #print(\"\\nweights.shape :\", w.shape, \" - weights:\\n\", w)\n",
    "        plotTensor(im)\n",
    "    \n",
    "printWeight(learn.model)\n",
    "\n",
    "weightsBeforeUnfreeze =  WeightsAsImage(learn.model)\n",
    "weightsBeforeUnfreeze.shape"
   ]
  },
  {
   "cell_type": "raw",
   "metadata": {},
   "source": [
    "gc.collect()\n",
    "\n",
    "bs   = [8,2] \n",
    "size = np.asarray([1, 2])*224\n",
    "lr   = [0.0001, 0.001]\n",
    "msg = []\n",
    "learn = None\n",
    "for i in range(0,2):\n",
    "    data = ImageDataBunch.create(dsTrain, dsValid, ds_tfms=tfms, tfm_y=True, bs=bs[i], size=size[i] )\n",
    "    data.normalize(imagenet_stats)\n",
    "\n",
    "    if learn is None : \n",
    "        learn = Learner.create_unet(data, models.resnet50, loss_func= WeighedCrossEntropy(code_weights), \n",
    "                                    metrics=accuracy_)\n",
    "    else: \n",
    "        learn.data = data\n",
    "        \n",
    "    if i==0 : learn.unfreeze()\n",
    "\n",
    "    train_ds_im_size,valid_ds_im_size = learn.data.train_ds.kwargs[\"size\"], learn.data.valid_ds.kwargs[\"size\"]\n",
    "    msg.append( f\"batch size:{bs[i]} image size for train_ds { train_ds_im_size} - valid_ds for {valid_ds_im_size}\" )\n",
    "    \n",
    "    torch.cuda.empty_cache()\n",
    "    gc.collect()\n",
    "    lrs = slice(1e-6, lr[i])\n",
    "    learn.fit_one_cycle(len(lr)-i, lrs, wd=1e-3)    \n",
    "\n",
    "msg"
   ]
  },
  {
   "cell_type": "raw",
   "metadata": {},
   "source": [
    "#learn.unfreeze()\n",
    "\n",
    "#unfreeze first layer\n",
    "layers = getLayers(learn.model)\n",
    "for param in layers[0].parameters():\n",
    "    param.requires_grad = True"
   ]
  },
  {
   "cell_type": "raw",
   "metadata": {},
   "source": [
    "#learn.fit_one_cycle(6, slice(lr_last_layer*1e-4, lr_last_layer * 1e-1) )\n",
    "learn.fit_one_cycle(12, slice(lr_last_layer*1e-2, lr_last_layer * 0) )"
   ]
  },
  {
   "cell_type": "raw",
   "metadata": {},
   "source": [
    "weightsAfterTrainingInputLayer = WeightsAsImage(learn.model)\n",
    "fig,axes = plt.subplots(nrows=1, ncols=2, figsize =(12,12), dpi=100)\n",
    "axes[0].imshow(weightsBeforeUnfreeze)  \n",
    "axes[1].imshow(weightsAfterTrainingInputLayer)  "
   ]
  },
  {
   "cell_type": "raw",
   "metadata": {},
   "source": [
    "diff = weightsAfterTrainingInputLayer-weightsBeforeUnfreeze\n",
    "diff = (diff-diff.min())/(diff.max()-diff.min())\n",
    "plotTensor(diff)\n",
    "weightsAfterTrainingInputLayer-weightsBeforeUnfreeze"
   ]
  },
  {
   "cell_type": "raw",
   "metadata": {},
   "source": [
    "max_lr = lr_last_layer*0.75\n",
    "min_lr = max_lr*1e-4\n",
    "print(f\"unfreeze learning slice: {min_lr:.2e} to {max_lr:.2e} \")"
   ]
  },
  {
   "cell_type": "raw",
   "metadata": {},
   "source": [
    "learn.unfreeze()\n",
    "learn.fit_one_cycle(10,  max_lr=slice(min_lr,max_lr))"
   ]
  },
  {
   "cell_type": "raw",
   "metadata": {},
   "source": [
    "learn.recorder.plot_losses(), plt.show()\n",
    "learn.recorder.plot_metrics()"
   ]
  },
  {
   "cell_type": "raw",
   "metadata": {},
   "source": [
    "fnImage = path/valid/xrays/\n",
    "\n",
    "fnImages = join_paths(dfData.fnImage.values, path/d_im)\n",
    "fnMasks  = join_paths(dfData.fnMask.values, path/d_msk)\n",
    "ixTrain  = dfData.purpose==\"train\"\n",
    "ixValid  = ixTrain == False\n",
    "dsTrain  = SegmentationDataset(join_paths(dfData.fnImage[ixTrain].values, path/d_im), \n",
    "                               join_paths(dfData.fnImage[ixTrain].values, path/d_msk), \n",
    "                               codes)\n",
    "dsValid  = SegmentationDataset(join_paths(dfData.fnImage[ixValid].values, path/d_im), \n",
    "                               join_paths(dfData.fnImage[ixValid].values, path/d_msk), \n",
    "                               codes)\n",
    "dsTrain.image_opener = dsValid.image_opener = open_image_16bit2rgb\n",
    "dsTrain.mask_opener  = dsValid.mask_opener  = open_mask_special"
   ]
  }
 ],
 "metadata": {
  "kernelspec": {
   "display_name": "Python 3",
   "language": "python",
   "name": "python3"
  },
  "language_info": {
   "codemirror_mode": {
    "name": "ipython",
    "version": 3
   },
   "file_extension": ".py",
   "mimetype": "text/x-python",
   "name": "python",
   "nbconvert_exporter": "python",
   "pygments_lexer": "ipython3",
   "version": "3.6.7"
  }
 },
 "nbformat": 4,
 "nbformat_minor": 2
}
