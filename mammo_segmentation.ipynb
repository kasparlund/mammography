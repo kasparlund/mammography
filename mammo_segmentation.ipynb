{
 "cells": [
  {
   "cell_type": "markdown",
   "metadata": {},
   "source": [
    "# Segmentation of mammo tiles"
   ]
  },
  {
   "cell_type": "code",
   "execution_count": 1,
   "metadata": {},
   "outputs": [],
   "source": [
    "# Put these at the top of every notebook, to get automatic reloading and inline plotting\n",
    "%reload_ext autoreload\n",
    "%autoreload 2\n",
    "%matplotlib inline"
   ]
  },
  {
   "cell_type": "code",
   "execution_count": 2,
   "metadata": {
    "scrolled": true
   },
   "outputs": [],
   "source": [
    "#from fastai.core import *\n",
    "from fastai import *\n",
    "from fastai.vision import *\n",
    "import PIL\n",
    "\n",
    "from pathlib import *\n",
    "import pandas as pd\n",
    "import numpy as np\n",
    "import colorcet as cc\n",
    "\n",
    "#from gray_image import *\n",
    "from fastai_gs import *\n",
    "\n",
    "cmap_grey = cc.cm.linear_grey_0_100_c0"
   ]
  },
  {
   "cell_type": "code",
   "execution_count": 3,
   "metadata": {},
   "outputs": [],
   "source": [
    "from enum import Enum\n",
    "class ObsType(Enum):\n",
    "    EMPTY=0           ,\"empty\"                   # outside the breast\n",
    "    NORMAL=1          ,\"normal\"                  # tissue with no segments\n",
    "    BENIGN_CALC=2     ,\"benign_calcification\"    # tissue with benign calcification\n",
    "    MALIGNANT_CALC=3  ,\"malignant calcification\"  # tissue with malignant calcification\n",
    "    BENIGN_MASS=4     ,\"benign_mass\"              # tissue with a benign node\n",
    "    MALIGNANT_MASS=5  ,\"malignant mass\"           # tissue with a malignant node\n",
    "def enum2int(e): return e.value[0]\n",
    "\n",
    "def selectCases( cases, purpose, complexity, nb=1000 ): \n",
    "    dfAll = None\n",
    "    for k,q in complexity.items():\n",
    "        df  = cases[cases.purpose==purpose].query(q)\n",
    "        df[\"classes\"] = k\n",
    "        idx   = np.unique(np.random.uniform( low=0, high=df.shape[0], size=10*nb).astype(int))\n",
    "        idx   = idx[0:min(df.shape[0], nb, len(idx) )]\n",
    "        dfAll = dfAll.append(df.iloc[idx]) if dfAll is not None else df.iloc[idx]\n",
    "    return dfAll\n",
    " "
   ]
  },
  {
   "cell_type": "code",
   "execution_count": 4,
   "metadata": {},
   "outputs": [],
   "source": [
    "path  = Path('../../data/mammography-data/mammography-dogscats-match-equalization-BINS-CHX/tiles') #print(list(path.iterdir()))\n",
    "dxrays = \"xrays\"\n",
    "dmasks = \"obs_masks\"\n",
    "dtrain = \"train\"\n",
    "dvalid = \"test\""
   ]
  },
  {
   "cell_type": "code",
   "execution_count": null,
   "metadata": {},
   "outputs": [
    {
     "name": "stdout",
     "output_type": "stream",
     "text": [
      "Selected dataset\n"
     ]
    },
    {
     "data": {
      "text/html": [
       "<div>\n",
       "<style scoped>\n",
       "    .dataframe tbody tr th:only-of-type {\n",
       "        vertical-align: middle;\n",
       "    }\n",
       "\n",
       "    .dataframe tbody tr th {\n",
       "        vertical-align: top;\n",
       "    }\n",
       "\n",
       "    .dataframe thead th {\n",
       "        text-align: right;\n",
       "    }\n",
       "</style>\n",
       "<table border=\"1\" class=\"dataframe\">\n",
       "  <thead>\n",
       "    <tr style=\"text-align: right;\">\n",
       "      <th></th>\n",
       "      <th>case_id</th>\n",
       "      <th>height</th>\n",
       "      <th>width</th>\n",
       "      <th>simple_pathology</th>\n",
       "      <th>patient_id</th>\n",
       "      <th>purpose</th>\n",
       "      <th>density</th>\n",
       "      <th>left_right</th>\n",
       "      <th>projection</th>\n",
       "      <th>obs id</th>\n",
       "      <th>...</th>\n",
       "      <th>malignant_calc</th>\n",
       "      <th>benign_mass</th>\n",
       "      <th>malignant_mass</th>\n",
       "      <th>rCenter</th>\n",
       "      <th>cCenter</th>\n",
       "      <th>tile_size</th>\n",
       "      <th>obsAreas</th>\n",
       "      <th>fnImage</th>\n",
       "      <th>fnMask</th>\n",
       "      <th>classes</th>\n",
       "    </tr>\n",
       "  </thead>\n",
       "  <tbody>\n",
       "    <tr>\n",
       "      <th>131</th>\n",
       "      <td>Calc-Test_P_00127_RIGHT_CC</td>\n",
       "      <td>5375</td>\n",
       "      <td>2882</td>\n",
       "      <td>MALIGNANT</td>\n",
       "      <td>P_00127</td>\n",
       "      <td>test</td>\n",
       "      <td>2.0</td>\n",
       "      <td>RIGHT</td>\n",
       "      <td>CC</td>\n",
       "      <td>1</td>\n",
       "      <td>...</td>\n",
       "      <td>35066</td>\n",
       "      <td>0</td>\n",
       "      <td>0</td>\n",
       "      <td>0.55</td>\n",
       "      <td>0.46</td>\n",
       "      <td>1048576</td>\n",
       "      <td>48236</td>\n",
       "      <td>Calc-Test_P_00127_RIGHT_CC_tile_2435_809.png</td>\n",
       "      <td>Calc-Test_P_00127_RIGHT_CC_tile_2435_809.png</td>\n",
       "      <td>malignant_calc</td>\n",
       "    </tr>\n",
       "    <tr>\n",
       "      <th>132</th>\n",
       "      <td>Calc-Test_P_00127_RIGHT_CC</td>\n",
       "      <td>5375</td>\n",
       "      <td>2882</td>\n",
       "      <td>MALIGNANT</td>\n",
       "      <td>P_00127</td>\n",
       "      <td>test</td>\n",
       "      <td>2.0</td>\n",
       "      <td>RIGHT</td>\n",
       "      <td>CC</td>\n",
       "      <td>1</td>\n",
       "      <td>...</td>\n",
       "      <td>48709</td>\n",
       "      <td>0</td>\n",
       "      <td>0</td>\n",
       "      <td>0.59</td>\n",
       "      <td>0.62</td>\n",
       "      <td>1048576</td>\n",
       "      <td>48236</td>\n",
       "      <td>Calc-Test_P_00127_RIGHT_CC_tile_2670_1289.png</td>\n",
       "      <td>Calc-Test_P_00127_RIGHT_CC_tile_2670_1289.png</td>\n",
       "      <td>malignant_calc</td>\n",
       "    </tr>\n",
       "    <tr>\n",
       "      <th>133</th>\n",
       "      <td>Calc-Test_P_00127_RIGHT_CC</td>\n",
       "      <td>5375</td>\n",
       "      <td>2882</td>\n",
       "      <td>MALIGNANT</td>\n",
       "      <td>P_00127</td>\n",
       "      <td>test</td>\n",
       "      <td>2.0</td>\n",
       "      <td>RIGHT</td>\n",
       "      <td>CC</td>\n",
       "      <td>1</td>\n",
       "      <td>...</td>\n",
       "      <td>48460</td>\n",
       "      <td>0</td>\n",
       "      <td>0</td>\n",
       "      <td>0.64</td>\n",
       "      <td>0.40</td>\n",
       "      <td>1048576</td>\n",
       "      <td>48236</td>\n",
       "      <td>Calc-Test_P_00127_RIGHT_CC_tile_2918_628.png</td>\n",
       "      <td>Calc-Test_P_00127_RIGHT_CC_tile_2918_628.png</td>\n",
       "      <td>malignant_calc</td>\n",
       "    </tr>\n",
       "    <tr>\n",
       "      <th>146</th>\n",
       "      <td>Calc-Test_P_00127_RIGHT_MLO</td>\n",
       "      <td>5669</td>\n",
       "      <td>2615</td>\n",
       "      <td>MALIGNANT</td>\n",
       "      <td>P_00127</td>\n",
       "      <td>test</td>\n",
       "      <td>2.0</td>\n",
       "      <td>RIGHT</td>\n",
       "      <td>MLO</td>\n",
       "      <td>1</td>\n",
       "      <td>...</td>\n",
       "      <td>23367</td>\n",
       "      <td>0</td>\n",
       "      <td>0</td>\n",
       "      <td>0.85</td>\n",
       "      <td>0.50</td>\n",
       "      <td>1048576</td>\n",
       "      <td>41836</td>\n",
       "      <td>Calc-Test_P_00127_RIGHT_MLO_tile_4301_806.png</td>\n",
       "      <td>Calc-Test_P_00127_RIGHT_MLO_tile_4301_806.png</td>\n",
       "      <td>malignant_calc</td>\n",
       "    </tr>\n",
       "    <tr>\n",
       "      <th>147</th>\n",
       "      <td>Calc-Test_P_00127_RIGHT_MLO</td>\n",
       "      <td>5669</td>\n",
       "      <td>2615</td>\n",
       "      <td>MALIGNANT</td>\n",
       "      <td>P_00127</td>\n",
       "      <td>test</td>\n",
       "      <td>2.0</td>\n",
       "      <td>RIGHT</td>\n",
       "      <td>MLO</td>\n",
       "      <td>1</td>\n",
       "      <td>...</td>\n",
       "      <td>42245</td>\n",
       "      <td>0</td>\n",
       "      <td>0</td>\n",
       "      <td>0.75</td>\n",
       "      <td>0.49</td>\n",
       "      <td>1048576</td>\n",
       "      <td>41836</td>\n",
       "      <td>Calc-Test_P_00127_RIGHT_MLO_tile_3733_758.png</td>\n",
       "      <td>Calc-Test_P_00127_RIGHT_MLO_tile_3733_758.png</td>\n",
       "      <td>malignant_calc</td>\n",
       "    </tr>\n",
       "  </tbody>\n",
       "</table>\n",
       "<p>5 rows × 30 columns</p>\n",
       "</div>"
      ],
      "text/plain": [
       "                         case_id  height  width simple_pathology patient_id  \\\n",
       "131   Calc-Test_P_00127_RIGHT_CC    5375   2882        MALIGNANT    P_00127   \n",
       "132   Calc-Test_P_00127_RIGHT_CC    5375   2882        MALIGNANT    P_00127   \n",
       "133   Calc-Test_P_00127_RIGHT_CC    5375   2882        MALIGNANT    P_00127   \n",
       "146  Calc-Test_P_00127_RIGHT_MLO    5669   2615        MALIGNANT    P_00127   \n",
       "147  Calc-Test_P_00127_RIGHT_MLO    5669   2615        MALIGNANT    P_00127   \n",
       "\n",
       "    purpose  density left_right projection  obs id       ...        \\\n",
       "131    test      2.0      RIGHT         CC       1       ...         \n",
       "132    test      2.0      RIGHT         CC       1       ...         \n",
       "133    test      2.0      RIGHT         CC       1       ...         \n",
       "146    test      2.0      RIGHT        MLO       1       ...         \n",
       "147    test      2.0      RIGHT        MLO       1       ...         \n",
       "\n",
       "    malignant_calc benign_mass malignant_mass  rCenter cCenter  tile_size  \\\n",
       "131          35066           0              0     0.55    0.46    1048576   \n",
       "132          48709           0              0     0.59    0.62    1048576   \n",
       "133          48460           0              0     0.64    0.40    1048576   \n",
       "146          23367           0              0     0.85    0.50    1048576   \n",
       "147          42245           0              0     0.75    0.49    1048576   \n",
       "\n",
       "    obsAreas                                        fnImage  \\\n",
       "131    48236   Calc-Test_P_00127_RIGHT_CC_tile_2435_809.png   \n",
       "132    48236  Calc-Test_P_00127_RIGHT_CC_tile_2670_1289.png   \n",
       "133    48236   Calc-Test_P_00127_RIGHT_CC_tile_2918_628.png   \n",
       "146    41836  Calc-Test_P_00127_RIGHT_MLO_tile_4301_806.png   \n",
       "147    41836  Calc-Test_P_00127_RIGHT_MLO_tile_3733_758.png   \n",
       "\n",
       "                                            fnMask         classes  \n",
       "131   Calc-Test_P_00127_RIGHT_CC_tile_2435_809.png  malignant_calc  \n",
       "132  Calc-Test_P_00127_RIGHT_CC_tile_2670_1289.png  malignant_calc  \n",
       "133   Calc-Test_P_00127_RIGHT_CC_tile_2918_628.png  malignant_calc  \n",
       "146  Calc-Test_P_00127_RIGHT_MLO_tile_4301_806.png  malignant_calc  \n",
       "147  Calc-Test_P_00127_RIGHT_MLO_tile_3733_758.png  malignant_calc  \n",
       "\n",
       "[5 rows x 30 columns]"
      ]
     },
     "metadata": {},
     "output_type": "display_data"
    },
    {
     "data": {
      "text/plain": [
       "purpose  observation    classes       \n",
       "test     calcification  benign_calc        420\n",
       "                        malignant_calc     261\n",
       "         mass           benign_mass        673\n",
       "                        malignant_mass     441\n",
       "train    calcification  benign_calc       1700\n",
       "                        malignant_calc    1156\n",
       "         mass           benign_mass       1700\n",
       "                        malignant_mass    1700\n",
       "Name: fnImage, dtype: int64"
      ]
     },
     "metadata": {},
     "output_type": "display_data"
    }
   ],
   "source": [
    "cases = pd.read_csv( path / \"tiles.csv\", sep=\";\", low_memory=False)\n",
    "#print(f\"cases.columns:{cases.columns}\")\n",
    "cases.drop(\"Unnamed: 0\",axis=1,inplace=True)\n",
    "#display(cases.tail(2))\n",
    "\n",
    "#print(\"Stat of dataset before selection\")\n",
    "#gp = cases.groupby( [\"purpose\", \"observation\", \"simple_pathology\"])[\"fnImage\"].count()\n",
    "#print( gp )\n",
    "\n",
    "codes = [obs.name.lower() for obs in ObsType]\n",
    "#print(f\"codes:{codes}\")\n",
    "\n",
    "complexity={\n",
    "            \"malignant_calc\":\"malignant_calc > 0.3*obsAreas and empty < 0.05*tile_size\",\n",
    "            \"benign_calc\":   \"benign_calc    > 0.3*obsAreas and empty < 0.05*tile_size\",\n",
    "            \"malignant_mass\":\"malignant_mass > 0.3*obsAreas and empty < 0.05*tile_size\",\n",
    "            \"benign_mass\":   \"benign_mass    > 0.3*obsAreas and empty < 0.05*tile_size\"\n",
    "#50            \"malignant_calc\":\"malignant_calc > 0.3*tile_size and benign_calc==0    and empty==0\",\n",
    "#50            \"benign_calc\":   \"benign_calc    > 0.19*tile_size and malignant_calc==0 and empty==0\"\n",
    "#100            \"malignant_calc\":\"malignant_calc > 0.2*tile_size and benign_calc==0    and empty==0\",\n",
    "#100            \"benign_calc\":   \"benign_calc    > 0.2*tile_size and malignant_calc==0 and empty==0\"\n",
    "#500 samples           \"malignant_calc\":\"malignant_calc > 0.037*tile_size and benign_calc==0    and empty==0\",\n",
    "#550 samples            \"benign_calc\":   \"benign_calc    > 0.037*tile_size and malignant_calc==0 and empty==0\"\n",
    "#            \"pHealthy\":\"pAir==0 and pBenign==0 and pMalignant==0\",\n",
    "#            \"malignant_calc\":\"malignant_calc > 0.1*tile_size and malignant_calc > 0.5*obsAreas and benign_calc==0 and empty==0\",\n",
    "#            \"pAir\":\"pAir>0.2 and pAir<1.0\", \n",
    "#            \"benign_calc\":\"benign_calc/tile_size>0.1 and benign_calc > 0.5*obsAreas and malignant_calc==0 and empty==0\"\n",
    "#            \"pMalignant\":\"pMalignant > 0.99*obsAreas and pBenign==0 and pAir==0\"\n",
    "}\n",
    "nb=1700\n",
    "\n",
    "test   = selectCases( cases, \"test\",  complexity=complexity, nb=nb//2 )\n",
    "train  = selectCases( cases, \"train\", complexity=complexity, nb=nb )\n",
    "dfData = test.append(train)\n",
    "print(\"Selected dataset\"), display(dfData.head())\n",
    "gp = dfData.groupby( [\"purpose\", \"observation\", \"classes\"])[\"fnImage\"].count()\n",
    "display( gp )\n"
   ]
  },
  {
   "cell_type": "code",
   "execution_count": null,
   "metadata": {},
   "outputs": [
    {
     "name": "stdout",
     "output_type": "stream",
     "text": [
      "Frequency of pixel pr class codes\n"
     ]
    },
    {
     "data": {
      "text/html": [
       "<div>\n",
       "<style scoped>\n",
       "    .dataframe tbody tr th:only-of-type {\n",
       "        vertical-align: middle;\n",
       "    }\n",
       "\n",
       "    .dataframe tbody tr th {\n",
       "        vertical-align: top;\n",
       "    }\n",
       "\n",
       "    .dataframe thead th {\n",
       "        text-align: right;\n",
       "    }\n",
       "</style>\n",
       "<table border=\"1\" class=\"dataframe\">\n",
       "  <thead>\n",
       "    <tr style=\"text-align: right;\">\n",
       "      <th></th>\n",
       "      <th>empty</th>\n",
       "      <th>normal</th>\n",
       "      <th>benign_calc</th>\n",
       "      <th>malignant_calc</th>\n",
       "      <th>benign_mass</th>\n",
       "      <th>malignant_mass</th>\n",
       "    </tr>\n",
       "    <tr>\n",
       "      <th>purpose</th>\n",
       "      <th></th>\n",
       "      <th></th>\n",
       "      <th></th>\n",
       "      <th></th>\n",
       "      <th></th>\n",
       "      <th></th>\n",
       "    </tr>\n",
       "  </thead>\n",
       "  <tbody>\n",
       "    <tr>\n",
       "      <th>test</th>\n",
       "      <td>0.006</td>\n",
       "      <td>0.910</td>\n",
       "      <td>0.016</td>\n",
       "      <td>0.027</td>\n",
       "      <td>0.023</td>\n",
       "      <td>0.018</td>\n",
       "    </tr>\n",
       "    <tr>\n",
       "      <th>train</th>\n",
       "      <td>0.006</td>\n",
       "      <td>0.897</td>\n",
       "      <td>0.020</td>\n",
       "      <td>0.036</td>\n",
       "      <td>0.016</td>\n",
       "      <td>0.025</td>\n",
       "    </tr>\n",
       "  </tbody>\n",
       "</table>\n",
       "</div>"
      ],
      "text/plain": [
       "         empty  normal  benign_calc  malignant_calc  benign_mass  \\\n",
       "purpose                                                            \n",
       "test     0.006   0.910        0.016           0.027        0.023   \n",
       "train    0.006   0.897        0.020           0.036        0.016   \n",
       "\n",
       "         malignant_mass  \n",
       "purpose                  \n",
       "test              0.018  \n",
       "train             0.025  "
      ]
     },
     "metadata": {},
     "output_type": "display_data"
    },
    {
     "name": "stdout",
     "output_type": "stream",
     "text": [
      "\n",
      "Weights of observations\n"
     ]
    },
    {
     "data": {
      "text/html": [
       "<div>\n",
       "<style scoped>\n",
       "    .dataframe tbody tr th:only-of-type {\n",
       "        vertical-align: middle;\n",
       "    }\n",
       "\n",
       "    .dataframe tbody tr th {\n",
       "        vertical-align: top;\n",
       "    }\n",
       "\n",
       "    .dataframe thead th {\n",
       "        text-align: right;\n",
       "    }\n",
       "</style>\n",
       "<table border=\"1\" class=\"dataframe\">\n",
       "  <thead>\n",
       "    <tr style=\"text-align: right;\">\n",
       "      <th></th>\n",
       "      <th>empty</th>\n",
       "      <th>normal</th>\n",
       "      <th>benign_calc</th>\n",
       "      <th>malignant_calc</th>\n",
       "      <th>benign_mass</th>\n",
       "      <th>malignant_mass</th>\n",
       "    </tr>\n",
       "    <tr>\n",
       "      <th>purpose</th>\n",
       "      <th></th>\n",
       "      <th></th>\n",
       "      <th></th>\n",
       "      <th></th>\n",
       "      <th></th>\n",
       "      <th></th>\n",
       "    </tr>\n",
       "  </thead>\n",
       "  <tbody>\n",
       "    <tr>\n",
       "      <th>test</th>\n",
       "      <td>0.449</td>\n",
       "      <td>0.003</td>\n",
       "      <td>0.168</td>\n",
       "      <td>0.103</td>\n",
       "      <td>0.120</td>\n",
       "      <td>0.157</td>\n",
       "    </tr>\n",
       "    <tr>\n",
       "      <th>train</th>\n",
       "      <td>0.480</td>\n",
       "      <td>0.003</td>\n",
       "      <td>0.145</td>\n",
       "      <td>0.081</td>\n",
       "      <td>0.178</td>\n",
       "      <td>0.113</td>\n",
       "    </tr>\n",
       "  </tbody>\n",
       "</table>\n",
       "</div>"
      ],
      "text/plain": [
       "         empty  normal  benign_calc  malignant_calc  benign_mass  \\\n",
       "purpose                                                            \n",
       "test     0.449   0.003        0.168           0.103        0.120   \n",
       "train    0.480   0.003        0.145           0.081        0.178   \n",
       "\n",
       "         malignant_mass  \n",
       "purpose                  \n",
       "test              0.157  \n",
       "train             0.113  "
      ]
     },
     "metadata": {},
     "output_type": "display_data"
    }
   ],
   "source": [
    "#calculate the weights of the classes in the loss function\n",
    "minWeight = 0\n",
    "gp = dfData.groupby([\"purpose\"])[codes].mean().astype(np.int)\n",
    "\n",
    "s = gp.sum(axis=1)\n",
    "gp.iloc[0] /= s.iloc[0]\n",
    "gp.iloc[1] /= s.iloc[1]\n",
    "\n",
    "pd.options.display.float_format = '{:,.3f}'.format\n",
    "print(\"Frequency of pixel pr class codes\"), display(gp)\n",
    "\n",
    "code_weights = 1. / (gp+1e-6)\n",
    "code_weights[gp==0] = 0\n",
    "\n",
    "s = code_weights.sum(axis=1)\n",
    "code_weights.iloc[0] /= s.iloc[0]\n",
    "code_weights.iloc[1] /= s.iloc[1]\n",
    "\n",
    "print(f\"\\nWeights of observations\")\n",
    "display(code_weights)\n",
    "\n",
    "#use the weight for training\n",
    "code_weights = code_weights.iloc[0].values\n",
    "code_weights = code_weights**0.95\n",
    "code_weights /= np.sum(code_weights)\n",
    "code_weights[code_weights==0] = minWeight\n",
    "\n",
    "n=gc.collect()"
   ]
  },
  {
   "cell_type": "code",
   "execution_count": null,
   "metadata": {},
   "outputs": [
    {
     "data": {
      "text/plain": [
       "array([0.434032, 0.003785, 0.170816, 0.107573, 0.123556, 0.160239])"
      ]
     },
     "execution_count": 7,
     "metadata": {},
     "output_type": "execute_result"
    }
   ],
   "source": [
    "#np.exp(code_weights)-1\n",
    "#code_weights[3]=0\n",
    "code_weights"
   ]
  },
  {
   "cell_type": "raw",
   "metadata": {},
   "source": [
    "files = list((path/dvalid/dxrays).iterdir())\n",
    "r     = dfData.iloc[-11]\n",
    "fn_im = path/(dtrain if r.purpose==\"train\" else dvalid)/dxrays/r.fnImage\n",
    "im    = open_image_16bit2rgb(fn_im)\n",
    "show_image( im, figsize=(5,5) ), plt.show()\n",
    "\n",
    "fn_msk = path / (dtrain if r.purpose==\"train\" else dvalid)/dmasks/r.fnImage\n",
    "mask   = open_mask(fn_msk)\n",
    "mask.show(figsize=(5,5), cmap=\"tab20\", alpha=.5)"
   ]
  },
  {
   "cell_type": "code",
   "execution_count": null,
   "metadata": {},
   "outputs": [],
   "source": [
    "ixTrain  = dfData.purpose==\"train\"\n",
    "ixValid  = ixTrain == False\n",
    "\n",
    "train  = join_paths(dfData.fnImage[ixTrain].values, path/dtrain/dxrays)\n",
    "valid  = join_paths(dfData.fnImage[ixValid].values, path/dvalid/dxrays)\n",
    "\n",
    "get_y_fn   = lambda x: x.parents[1]/dmasks/x.name \n",
    "valid_func = lambda x: x.parts[-3] == dvalid\n",
    "\n",
    "def open_image_16bit2rgb( fn ): \n",
    "    a = np.asarray(PIL.Image.open( fn ))\n",
    "    a = np.expand_dims(a,axis=2)\n",
    "    a = np.repeat(a, 3, axis=2)\n",
    "    return Image( pil2tensor(a, np.float32 ).div(65535) )\n",
    "\n",
    "vision.data.open_image = open_image_16bit2rgb\n",
    "\n",
    "src = (SegmentationItemList( list(train+valid), create_func=open_image_16bit2rgb, path=\"\")\n",
    "                           .split_by_valid_func(valid_func)\n",
    "                           .label_from_func(get_y_fn, classes=codes)           \n",
    "      )"
   ]
  },
  {
   "cell_type": "code",
   "execution_count": null,
   "metadata": {},
   "outputs": [],
   "source": [
    "def getSegmentationTransforms():\n",
    "    max_zoom        = 1.1\n",
    "    max_rotate      = 0.1\n",
    "    brightnes_range = (0.85, 1.01)\n",
    "    contrast_range  = (0.85, 1.01)\n",
    "    rotate_range    = (-10, 10) # degrees\n",
    "    warp_range      = (-0.1, 0.1)\n",
    "    \n",
    "    tfmTrain,tfmValid =[],[]\n",
    "    \n",
    "    tfmTrain.append(crop_pad())\n",
    "    tfmTrain.append( dihedral_affine() )\n",
    "    \n",
    "    \"\"\"\n",
    "    tfmTrain.append( rotate(degrees=rotate_range, p=.5) )\n",
    "    #tfmTrain.append( flip_affine(p=0.5) )\n",
    "    \n",
    "    #tfmTrain.append( skew( np.arange, p=0.75) )\n",
    "    tfmTrain.append( symmetric_warp(magnitude=warp_range, p=0.5) )\n",
    "    #tfmTrain.append( perspective_warp(magnitude=warp_range, p=0.25) )\n",
    "    \n",
    "    #tfmTrain.append( rand_zoom(scale=(1.,max_zoom), p=0.75) )\n",
    "    #tfmTrain.append( rand_crop() )\n",
    "\n",
    "    tfmTrain.append( jitter(magnitude=0.01) )\n",
    "    \n",
    "    \"\"\"\n",
    "    if brightnes_range is not None: tfmTrain.append( brightness(change=brightnes_range, p=0.25) )\n",
    "    if contrast_range is not None:  tfmTrain.append( contrast(scale=contrast_range,     p=0.25) )\n",
    "    \n",
    "        \n",
    "    tfmValid.append(crop_pad())\n",
    "    #tfmValid.append( flip_affine(p=0.5) )\n",
    "    return (tfmTrain, tfmValid)"
   ]
  },
  {
   "cell_type": "code",
   "execution_count": null,
   "metadata": {},
   "outputs": [],
   "source": [
    "class ACC:          \n",
    "    class_mask = torch.from_numpy( (code_weights > 0).astype(np.float32) )\n",
    "    @staticmethod\n",
    "    def accuracy_seg(input, target):\n",
    "        #The input.argmax(dim=1) selects the winner class pr pixel, thereby reducing \n",
    "        #the input shape from (bs, classes, width, height) => (bs, width, height)\n",
    "        #We, therefore, have to reshape the target tensor from (bs, 1, width, height) to (bs, width, height)\n",
    "        sz     = target.size()\n",
    "        target = target.reshape( (sz[0], sz[2], sz[3]) )\n",
    "\n",
    "        #mask out classes with zeri weight\n",
    "        if ACC.class_mask.lt(0).any() :\n",
    "            mask = None\n",
    "            for i in range(len(ACC.class_mask)):\n",
    "                if ACC.class_mask[i] <= 0:\n",
    "                    mask = target.eq(i).byte() if mask is None else mask + target.eq(i).byte()\n",
    "                \n",
    "            mask = mask.eq(0)\n",
    "            return (input.argmax(dim=1)[mask].flatten()==target[mask].flatten()).float().mean()        #mask   = mask.reshape( (sz[0], sz[2], sz[3]) )\n",
    "        else:\n",
    "            return (input.argmax(dim=1).flatten()==target.flatten()).float().mean()"
   ]
  },
  {
   "cell_type": "code",
   "execution_count": null,
   "metadata": {},
   "outputs": [],
   "source": [
    "#ix_codes = torch.from_numpy( np.asarray( np.where(code_weights>0) ).flatten().astype(np.long) ).long().cuda()\n",
    "#print(ix_codes)\n",
    "def ignoreImageValues( class_images, class_mask, value=0):\n",
    "    \"set the pixel class to an ignore_index if the weight of the class is zero\"\n",
    "    for i in range(len(class_mask)):\n",
    "        if class_mask[i] <= 0. :\n",
    "            class_images[class_images==i] = value\n",
    "\n",
    "\n",
    "class WeighedCrossEntropy(CrossEntropyFlat):\n",
    "    msgBefore=\"\"\n",
    "    msgAfter=\"\"\n",
    "    msgRes=\"\"\n",
    "    msg=\"\"\n",
    "    def __init__( self, code_weights ):\n",
    "        super(WeighedCrossEntropy, self).__init__()\n",
    "        self.register_buffer(\"class_weights\",  torch.from_numpy( code_weights).cuda() )\n",
    "        self.register_buffer(\"ix_weights\", torch.from_numpy( (code_weights>0).flatten().astype(np.float32) ) )\n",
    "        self.ignore_index = -1\n",
    "        print(\"ix_weights: \", self.ix_weights) \n",
    "    def forward(self, input:Tensor, target:Tensor) -> Rank0Tensor:\n",
    "        scale  = 0.01\n",
    "        #w      = torch_weigths_mult_noise(scale, self.weights )\n",
    "        \n",
    "        #WeighedCrossEntropy.msgAfter  = f\"after: { input.size()}\"\n",
    "        #ignoreImageValues(target, ACC.class_mask, self.ignore_index )\n",
    "        for i in range( self.ix_weights.shape[0] ) :\n",
    "            if self.ix_weights[i] <= 0 : target[target==i] = self.ignore_index\n",
    "        \n",
    "        WeighedCrossEntropy.msg = f\"{input.shape} - {target.shape} - {self.ignore_index}\"\n",
    "        \n",
    "        n,c,rows,cols = input.shape\n",
    "        return F.cross_entropy(input.view(n, c, -1), target.view(n, -1), weight=self.class_weights, \n",
    "                               ignore_index=self.ignore_index,\n",
    "                               reduction=\"sum\"\n",
    "                              )/(n*rows*cols)\n",
    "        return res/(n*rows*cols)\n"
   ]
  },
  {
   "cell_type": "code",
   "execution_count": null,
   "metadata": {},
   "outputs": [],
   "source": [
    "#bs,size=100,64\n",
    "#bs,size=32,128\n",
    "#bs,size=64,128 \n",
    "#bs,size=16,128 \n",
    "bs,size=16,224 \n",
    "#bs,size=4,512 \n",
    "data = ( src.transform(getSegmentationTransforms(), size=size, tfm_y=True)\n",
    "            .databunch(bs=bs)\n",
    "            .normalize(imagenet_stats) )\n",
    "#data.show_batch(2, figsize=(10,7))"
   ]
  },
  {
   "cell_type": "code",
   "execution_count": null,
   "metadata": {
    "scrolled": true
   },
   "outputs": [
    {
     "name": "stdout",
     "output_type": "stream",
     "text": [
      "ix_weights:  tensor([1., 1., 1., 1., 1., 1.])\n"
     ]
    }
   ],
   "source": [
    "loss_func = WeighedCrossEntropy( code_weights.astype(np.float32) ) # DiceLoss() #WeighedCrossEntropy( code_weights.astype(np.float32) ) # # FocalLoss(gamma=2.,alpha=.25), #  \n",
    "#                            loss_func=  WeighedCrossEntropy( torch.from_numpy( code_weights.astype(np.float32) ).cuda() ), # DiceLoss(), # FocalLoss(gamma=2.,alpha=.25), #  \n",
    "learn = Learner.create_unet(data, \n",
    "                            models.resnet34, \n",
    "                            loss_func= loss_func,\n",
    "                            metrics=ACC.accuracy_seg\n",
    "                           )\n"
   ]
  },
  {
   "cell_type": "markdown",
   "metadata": {},
   "source": [
    "lr=1e-6\n",
    "learn.fit_one_cycle(1, slice(lr))"
   ]
  },
  {
   "cell_type": "markdown",
   "metadata": {},
   "source": [
    "learn.loss_func = WeighedCrossEntropy( code_weights.astype(np.float32) )"
   ]
  },
  {
   "cell_type": "code",
   "execution_count": null,
   "metadata": {
    "scrolled": true
   },
   "outputs": [
    {
     "name": "stdout",
     "output_type": "stream",
     "text": [
      "LR Finder is complete, type {learner_name}.recorder.plot() to see the graph.\n"
     ]
    }
   ],
   "source": [
    "n = gc.collect()\n",
    "torch.cuda.empty_cache()\n",
    "lr_find(learn)"
   ]
  },
  {
   "cell_type": "code",
   "execution_count": null,
   "metadata": {
    "scrolled": true
   },
   "outputs": [
    {
     "data": {
      "image/png": "[encoded data removed]",
      "text/plain": [
       "<Figure size 432x288 with 1 Axes>"
      ]
     },
     "metadata": {
      "needs_background": "light"
     },
     "output_type": "display_data"
    }
   ],
   "source": [
    "learn.recorder.plot(skip_end=5)"
   ]
  },
  {
   "cell_type": "code",
   "execution_count": null,
   "metadata": {
    "scrolled": false
   },
   "outputs": [
    {
     "data": {
      "text/html": [
       "\n",
       "    <div>\n",
       "        <style>\n",
       "        \t/* Turns off some styling */\n",
       "        \tprogress {\n",
       "\n",
       "            \t/* gets rid of default border in Firefox and Opera. */\n",
       "            \tborder: none;\n",
       "\n",
       "            \t/* Needs to be in here for Safari polyfill so background images work as expected. */\n",
       "            \tbackground-size: auto;\n",
       "            }\n",
       "\n",
       "            .progress-bar-interrupted, .progress-bar-interrupted::-webkit-progress-bar {\n",
       "                background: #F44336;\n",
       "            }\n",
       "        </style>\n",
       "      <progress value='9' class='' max='10', style='width:300px; height:20px; vertical-align: middle;'></progress>\n",
       "      90.00% [9/10 11:45<01:18]\n",
       "    </div>\n",
       "    \n",
       "<table style='width:300px; margin-bottom:10px'>\n",
       "  <tr>\n",
       "    <th>epoch</th>\n",
       "    <th>train_loss</th>\n",
       "    <th>valid_loss</th>\n",
       "    <th>accuracy_seg</th>\n",
       "  </tr>\n",
       "  <tr>\n",
       "    <th>1</th>\n",
       "    <th>0.027630</th>\n",
       "    <th>0.023735</th>\n",
       "    <th>0.475590</th>\n",
       "  </tr>\n",
       "  <tr>\n",
       "    <th>2</th>\n",
       "    <th>0.024346</th>\n",
       "    <th>0.021064</th>\n",
       "    <th>0.556415</th>\n",
       "  </tr>\n",
       "  <tr>\n",
       "    <th>3</th>\n",
       "    <th>0.023742</th>\n",
       "    <th>0.020445</th>\n",
       "    <th>0.450618</th>\n",
       "  </tr>\n",
       "  <tr>\n",
       "    <th>4</th>\n",
       "    <th>0.022525</th>\n",
       "    <th>0.020635</th>\n",
       "    <th>0.437067</th>\n",
       "  </tr>\n",
       "  <tr>\n",
       "    <th>5</th>\n",
       "    <th>0.022185</th>\n",
       "    <th>0.020402</th>\n",
       "    <th>0.607271</th>\n",
       "  </tr>\n",
       "  <tr>\n",
       "    <th>6</th>\n",
       "    <th>0.022083</th>\n",
       "    <th>0.019835</th>\n",
       "    <th>0.517151</th>\n",
       "  </tr>\n",
       "  <tr>\n",
       "    <th>7</th>\n",
       "    <th>0.020810</th>\n",
       "    <th>0.019466</th>\n",
       "    <th>0.570715</th>\n",
       "  </tr>\n",
       "  <tr>\n",
       "    <th>8</th>\n",
       "    <th>0.020976</th>\n",
       "    <th>0.019450</th>\n",
       "    <th>0.554648</th>\n",
       "  </tr>\n",
       "  <tr>\n",
       "    <th>9</th>\n",
       "    <th>0.020120</th>\n",
       "    <th>0.019549</th>\n",
       "    <th>0.570162</th>\n",
       "  </tr>\n",
       "  <tr>\n",
       "\n",
       "  </tr>\n",
       "</table>\n",
       "\n",
       "\n",
       "    <div>\n",
       "        <style>\n",
       "        \t/* Turns off some styling */\n",
       "        \tprogress {\n",
       "\n",
       "            \t/* gets rid of default border in Firefox and Opera. */\n",
       "            \tborder: none;\n",
       "\n",
       "            \t/* Needs to be in here for Safari polyfill so background images work as expected. */\n",
       "            \tbackground-size: auto;\n",
       "            }\n",
       "\n",
       "            .progress-bar-interrupted, .progress-bar-interrupted::-webkit-progress-bar {\n",
       "                background: #F44336;\n",
       "            }\n",
       "        </style>\n",
       "      <progress value='342' class='' max='391', style='width:300px; height:20px; vertical-align: middle;'></progress>\n",
       "      87.47% [342/391 00:54<00:07 0.0204]\n",
       "    </div>\n",
       "    "
      ],
      "text/plain": [
       "<IPython.core.display.HTML object>"
      ]
     },
     "metadata": {},
     "output_type": "display_data"
    }
   ],
   "source": [
    "lr=0.8e-3\n",
    "learn.fit_one_cycle(10, slice(lr), wd=0.15, moms = (0.99,0.96) )\n",
    "n=gc.collect()\n",
    "torch.cuda.empty_cache()"
   ]
  },
  {
   "cell_type": "code",
   "execution_count": null,
   "metadata": {
    "scrolled": true
   },
   "outputs": [],
   "source": [
    "learn.recorder.plot_losses()"
   ]
  },
  {
   "cell_type": "code",
   "execution_count": null,
   "metadata": {},
   "outputs": [],
   "source": [
    "learn.recorder.plot_metrics()"
   ]
  },
  {
   "cell_type": "code",
   "execution_count": null,
   "metadata": {},
   "outputs": [],
   "source": [
    "learn.opt.wd"
   ]
  },
  {
   "cell_type": "code",
   "execution_count": null,
   "metadata": {},
   "outputs": [],
   "source": [
    "print(\"code_weights:\", code_weights)"
   ]
  },
  {
   "cell_type": "code",
   "execution_count": null,
   "metadata": {},
   "outputs": [],
   "source": [
    "plotPreds(learn, nrows=25, codes=codes, code_weights=code_weights, ds_type=DatasetType.Valid)  "
   ]
  },
  {
   "cell_type": "code",
   "execution_count": null,
   "metadata": {},
   "outputs": [],
   "source": [
    "xs,ys,ps,pcs = getIO(learn, 1, ds_type=DatasetType.Train, class_mask=code_weights)"
   ]
  },
  {
   "cell_type": "code",
   "execution_count": null,
   "metadata": {
    "scrolled": false
   },
   "outputs": [],
   "source": [
    "print(pcs[0].min())\n",
    "print(pcs[0].max())"
   ]
  },
  {
   "cell_type": "code",
   "execution_count": null,
   "metadata": {},
   "outputs": [],
   "source": [
    "learn.save('resnet34-stage-1')\n",
    "n=gc.collect()\n",
    "torch.cuda.empty_cache()"
   ]
  },
  {
   "cell_type": "code",
   "execution_count": null,
   "metadata": {},
   "outputs": [],
   "source": [
    "learn.load('resnet34-stage-1');"
   ]
  },
  {
   "cell_type": "code",
   "execution_count": null,
   "metadata": {},
   "outputs": [],
   "source": [
    "learn.unfreeze()"
   ]
  },
  {
   "cell_type": "code",
   "execution_count": null,
   "metadata": {},
   "outputs": [],
   "source": [
    "lr_find(learn)\n",
    "learn.recorder.plot()"
   ]
  },
  {
   "cell_type": "code",
   "execution_count": null,
   "metadata": {},
   "outputs": [],
   "source": [
    "multilayer_lr=slice(1e-6,lr/5)\n",
    "learn.fit_one_cycle(15, multilayer_lr)"
   ]
  },
  {
   "cell_type": "code",
   "execution_count": null,
   "metadata": {
    "scrolled": false
   },
   "outputs": [],
   "source": [
    "learn.recorder.plot_losses(), plt.show(), learn.recorder.plot_metrics()"
   ]
  },
  {
   "cell_type": "code",
   "execution_count": null,
   "metadata": {},
   "outputs": [],
   "source": [
    "plotPreds(learn, nrows=20, codes=codes, code_weights=code_weights, ds_type=DatasetType.Train)   "
   ]
  },
  {
   "cell_type": "code",
   "execution_count": null,
   "metadata": {},
   "outputs": [],
   "source": [
    "learn.save('resnet34-stage-2');"
   ]
  },
  {
   "cell_type": "code",
   "execution_count": null,
   "metadata": {},
   "outputs": [],
   "source": [
    "learn.load('resnet34-stage-2');"
   ]
  },
  {
   "cell_type": "raw",
   "metadata": {},
   "source": [
    "n=9\n",
    "ims,masks = [],[]\n",
    "for i in range(n):\n",
    "    x,y = data.train_ds[i]\n",
    "    ims.append(   image2np(x.data) ) \n",
    "    masks.append( image2np(y.data) )\n",
    "print(\"classes i mask:\"), [print(f\"mask {i}:{np.unique(m)}\") for i,m in enumerate(masks)]\n",
    "\n",
    "cmap=plt.cm.tab10\n",
    "showColorEncoding(codes, cmap=cmap)     \n",
    "plotImageMaskMosaic(ims, masks, codes, cmap=cmap, figsize=(10,14))\n",
    "#plotImageMaskMosaic(xs, ys, codes, cmap=cmap, figsize=(10,14))\n",
    "\n",
    "print(data.classes) len(data.classes),data.c"
   ]
  }
 ],
 "metadata": {
  "kernelspec": {
   "display_name": "Python 3",
   "language": "python",
   "name": "python3"
  },
  "language_info": {
   "codemirror_mode": {
    "name": "ipython",
    "version": 3
   },
   "file_extension": ".py",
   "mimetype": "text/x-python",
   "name": "python",
   "nbconvert_exporter": "python",
   "pygments_lexer": "ipython3",
   "version": "3.6.7"
  }
 },
 "nbformat": 4,
 "nbformat_minor": 2
}
