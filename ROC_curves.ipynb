{
 "cells": [
  {
   "cell_type": "code",
   "execution_count": 1,
   "metadata": {},
   "outputs": [],
   "source": [
    "# Put these at the top of every notebook, to get automatic reloading and inline plotting\n",
    "%reload_ext autoreload\n",
    "%autoreload 2\n",
    "%matplotlib inline"
   ]
  },
  {
   "cell_type": "code",
   "execution_count": 2,
   "metadata": {},
   "outputs": [],
   "source": [
    "import pandas as pd\n",
    "import numpy as np\n",
    "from pathlib import Path\n",
    "\n",
    "import matplotlib.pyplot as plt \n",
    "import colorcet as cc\n",
    "\n",
    "from IPython.display import display, HTML\n",
    "\n",
    "import time\n",
    "from datetime import datetime\n",
    "from random import randint\n",
    "\n",
    "import roc\n",
    "from roc import auc_by_utest, auc_by_roc_coordinates, roc_coordinates, plot_pdf, plot_roc\n",
    "cmap_grey = cc.cm.linear_grey_0_100_c0\n"
   ]
  },
  {
   "cell_type": "markdown",
   "metadata": {},
   "source": [
    "%%capture\n",
    "%run numpngw.ipynb"
   ]
  },
  {
   "cell_type": "code",
   "execution_count": 3,
   "metadata": {
    "scrolled": true
   },
   "outputs": [
    {
     "data": {
      "text/html": [
       "<div>\n",
       "<style scoped>\n",
       "    .dataframe tbody tr th:only-of-type {\n",
       "        vertical-align: middle;\n",
       "    }\n",
       "\n",
       "    .dataframe tbody tr th {\n",
       "        vertical-align: top;\n",
       "    }\n",
       "\n",
       "    .dataframe thead th {\n",
       "        text-align: right;\n",
       "    }\n",
       "</style>\n",
       "<table border=\"1\" class=\"dataframe\">\n",
       "  <thead>\n",
       "    <tr style=\"text-align: right;\">\n",
       "      <th></th>\n",
       "      <th>target</th>\n",
       "      <th>prob_target</th>\n",
       "      <th>predicted</th>\n",
       "      <th>prob_pre</th>\n",
       "    </tr>\n",
       "  </thead>\n",
       "  <tbody>\n",
       "    <tr>\n",
       "      <th>0</th>\n",
       "      <td>pHealthy</td>\n",
       "      <td>0.937</td>\n",
       "      <td>pHealthy</td>\n",
       "      <td>0.937</td>\n",
       "    </tr>\n",
       "    <tr>\n",
       "      <th>1</th>\n",
       "      <td>pHealthy</td>\n",
       "      <td>0.937</td>\n",
       "      <td>pHealthy</td>\n",
       "      <td>0.937</td>\n",
       "    </tr>\n",
       "  </tbody>\n",
       "</table>\n",
       "</div>"
      ],
      "text/plain": [
       "     target  prob_target predicted  prob_pre\n",
       "0  pHealthy        0.937  pHealthy     0.937\n",
       "1  pHealthy        0.937  pHealthy     0.937"
      ]
     },
     "execution_count": 3,
     "metadata": {},
     "output_type": "execute_result"
    }
   ],
   "source": [
    "data = pd.read_csv( \"../../predictions.csv\")\n",
    "data.head(2)"
   ]
  },
  {
   "cell_type": "code",
   "execution_count": 4,
   "metadata": {},
   "outputs": [
    {
     "name": "stdout",
     "output_type": "stream",
     "text": [
      "auc_by_utest:  0.813\n",
      "from scipy:  0.813\n",
      "from auc_score:  0.814\n"
     ]
    }
   ],
   "source": [
    "from scipy.stats import mannwhitneyu\n",
    "\n",
    "def auc_area(df):\n",
    "    roc_fpr, roc_tpr = roc_curve_coordinates(df)\n",
    "    auc = auc_score(roc_fpr, roc_tpr)\n",
    "    if auc < 0.50:\n",
    "        auc = 1.0 - auc\n",
    "    return(auc)\n",
    "\n",
    "def get_df(l):\n",
    "    label= [1] * l + [0] * l\n",
    "    score= [  randint(0,l*100) for p in range(0,l)] \\\n",
    "            + [randint(0,l*100*2) for p in range(0,l)]\n",
    "    data = {\"class\":label, \"score\": score}\n",
    "    df = pd.DataFrame(data=data)\n",
    "    return(df)\n",
    "\n",
    "df = get_df(15)\n",
    "\n",
    "#display(df)\n",
    "\n",
    "print(\"auc_by_utest: \", round(auc_by_utest( df[\"class\"], df[\"score\"] ),3) )\n",
    "\n",
    "v0,v1 = np.asarray(df.score[df[\"class\"]==0]), np.asarray(df.score[df[\"class\"]==1])\n",
    "statistic, pvalue = mannwhitneyu(v0,v1)\n",
    "auc = statistic / ( len(v0) * len(v1) )\n",
    "auc = auc if auc > 0.5 else (1-auc)\n",
    "print(\"from scipy: \",round(auc,3))\n",
    "\n",
    "#plot the roc curve\n",
    "metrics, roc_classes = roc_coordinates(df[\"class\"], df[\"score\"], [0])\n",
    "auc = auc_by_roc_coordinates(metrics.false_positive, metrics.true_positive)\n",
    "if auc < 0.50:\n",
    "    auc = 1.0 - auc\n",
    "\n",
    "print(\"from auc_score: \",round(auc,3))\n"
   ]
  },
  {
   "cell_type": "code",
   "execution_count": 5,
   "metadata": {},
   "outputs": [
    {
     "data": {
      "text/html": [
       "<div>\n",
       "<style scoped>\n",
       "    .dataframe tbody tr th:only-of-type {\n",
       "        vertical-align: middle;\n",
       "    }\n",
       "\n",
       "    .dataframe tbody tr th {\n",
       "        vertical-align: top;\n",
       "    }\n",
       "\n",
       "    .dataframe thead th {\n",
       "        text-align: right;\n",
       "    }\n",
       "</style>\n",
       "<table border=\"1\" class=\"dataframe\">\n",
       "  <thead>\n",
       "    <tr style=\"text-align: right;\">\n",
       "      <th></th>\n",
       "      <th>class</th>\n",
       "      <th>score</th>\n",
       "    </tr>\n",
       "  </thead>\n",
       "  <tbody>\n",
       "    <tr>\n",
       "      <th>0</th>\n",
       "      <td>1</td>\n",
       "      <td>1054</td>\n",
       "    </tr>\n",
       "    <tr>\n",
       "      <th>1</th>\n",
       "      <td>1</td>\n",
       "      <td>1426</td>\n",
       "    </tr>\n",
       "    <tr>\n",
       "      <th>2</th>\n",
       "      <td>1</td>\n",
       "      <td>568</td>\n",
       "    </tr>\n",
       "    <tr>\n",
       "      <th>3</th>\n",
       "      <td>1</td>\n",
       "      <td>553</td>\n",
       "    </tr>\n",
       "    <tr>\n",
       "      <th>4</th>\n",
       "      <td>1</td>\n",
       "      <td>1479</td>\n",
       "    </tr>\n",
       "  </tbody>\n",
       "</table>\n",
       "</div>"
      ],
      "text/plain": [
       "   class  score\n",
       "0      1   1054\n",
       "1      1   1426\n",
       "2      1    568\n",
       "3      1    553\n",
       "4      1   1479"
      ]
     },
     "metadata": {},
     "output_type": "display_data"
    },
    {
     "name": "stdout",
     "output_type": "stream",
     "text": [
      "30 (30,)\n",
      "auc_u_test:  0.813\n",
      "from scipy:  0.813\n"
     ]
    }
   ],
   "source": [
    "data=df\n",
    "#data.rename(columns={ \"target\":\"class\", \"prob_target\":\"score\", \"predicted\":\"predicted\", \"prob_pre\":\"prob_pre\"  },inplace=True)\n",
    "display(data.head(5))\n",
    "\n",
    "#roc_curve_coordinates(data)\n",
    "print(len(data[\"class\"]), data[\"score\"].shape )\n",
    "print(\"auc_u_test: \", round(auc_by_utest( data[\"class\"], data[\"score\"] ),3))\n",
    "\n",
    "\n",
    "v0,v1  = np.asarray(df.score[df[\"class\"]==0]), np.asarray(df.score[df[\"class\"]==1])\n",
    "statistic, pvalue = mannwhitneyu(v0,v1)\n",
    "auc = statistic / ( len(v0) * len(v1) )\n",
    "auc = auc if auc > 0.5 else (1-auc)\n",
    "print(\"from scipy: \",round(auc,3))\n"
   ]
  },
  {
   "cell_type": "raw",
   "metadata": {},
   "source": [
    "def plot_pdf(bins, class_predictions, colors, ax):\n",
    "    ax.set_xlim([min(bins),max(bins)])\n",
    "    \n",
    "    i=0\n",
    "    for c,v in class_predictions.items():\n",
    "        ax.hist( v, bins, color=colors[i], alpha=0.5)\n",
    "        i+=1\n",
    "        \n",
    "    #ax.set_ylim([0,max(histograms.flatten)])\n",
    "    ax.set_title(\"Probability Distribution\", fontsize=12)\n",
    "    ax.set_ylabel('Counts', fontsize=10)\n",
    "    ax.set_xlabel('Value slices', fontsize=10)\n",
    "    ax.legend(list(class_predictions.keys()))\n",
    "\n",
    "def plot_roc(score, tpr, fpr, cat, ax, thresh_decimals=0):\n",
    "    nb_thresholds=10\n",
    "    threshold = np.linspace(np.min(score), np.max(score), nb_thresholds)\n",
    "    tp_thresh = np.interp(-threshold, -score, tpr)\n",
    "    fp_thresh = np.interp(-threshold, -score, fpr)\n",
    "    threshold = np.round(threshold,thresh_decimals).astype(int if thresh_decimals==0 else float)\n",
    "    #print(threshold)\n",
    "    #print(np.round(tp_thresh3),)\n",
    "    #print(np.round(fp_thresh,3)\n",
    "    \n",
    "    #Plotting final ROC curve\n",
    "    ax.plot(fpr, tpr, color=\"b\")\n",
    "    x = np.linspace(0,1,3)    \n",
    "    ax.plot(x,x, \"ro--\")\n",
    "    \n",
    "    #plot thresholds labels near but not on the roc\n",
    "    for i in range(len(threshold)):\n",
    "        ax.text(fp_thresh[i] - 0.07,tp_thresh[i] + 0.02, threshold[i], color=\"b\", fontdict={'size': 8});\n",
    "    ax.scatter(fp_thresh, tp_thresh, s=10, color=\"b\")    \n",
    "    \n",
    "    ax.set_xlim([0,1])\n",
    "    ax.set_ylim([0,1])\n",
    "    ax.set_title(\"ROC Curve\", fontsize=14)\n",
    "    ax.set_xlabel('FPR', fontsize=12)\n",
    "    ax.tick_params(direction='out', pad=20)\n",
    "    ax.set_ylabel('TPR', fontsize=12)\n",
    "    #ax.grid()\n",
    "    auc = auc_by_roc_coordinates(tpr,fpr)\n",
    "    ax.legend([f\"AUC for class \\\"{cat}\\\": {auc:.3f}\"])    "
   ]
  },
  {
   "cell_type": "code",
   "execution_count": 7,
   "metadata": {
    "scrolled": true
   },
   "outputs": [
    {
     "data": {
      "image/png": "[encoded data removed]",
      "text/plain": [
       "<Figure size 1000x500 with 2 Axes>"
      ]
     },
     "metadata": {
      "needs_background": "light"
     },
     "output_type": "display_data"
    }
   ],
   "source": [
    "classes              = np.array(list( {k:1 for k in data[\"class\"]} ))\n",
    "class_predictions    = { c:np.asarray(data.score[data[\"class\"]==c]) for c in classes }\n",
    "metrics, roc_classes = roc_coordinates( df[\"class\"], df[\"score\"], [0])\n",
    "\n",
    "fig, (ax1, ax2) = plt.subplots(nrows=1, ncols=2, figsize = (10,5), dpi=100)\n",
    "plot_roc( np.asarray(metrics.score), np.asarray(metrics.true_positive), np.asarray(metrics.false_positive), roc_classes[0], ax=ax2 )\n",
    "plot_pdf( np.linspace(0,np.max(df[\"score\"]),11), class_predictions, colors=[\"r\",\"b\"], ax= ax1)\n",
    "plt.tight_layout()\n",
    "#display(metrics)\n",
    "\n"
   ]
  },
  {
   "cell_type": "code",
   "execution_count": null,
   "metadata": {},
   "outputs": [],
   "source": []
  }
 ],
 "metadata": {
  "kernelspec": {
   "display_name": "Python 3",
   "language": "python",
   "name": "python3"
  },
  "language_info": {
   "codemirror_mode": {
    "name": "ipython",
    "version": 3
   },
   "file_extension": ".py",
   "mimetype": "text/x-python",
   "name": "python",
   "nbconvert_exporter": "python",
   "pygments_lexer": "ipython3",
   "version": "3.6.7"
  }
 },
 "nbformat": 4,
 "nbformat_minor": 2
}
